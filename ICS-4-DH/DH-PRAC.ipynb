{
 "cells": [
  {
   "cell_type": "code",
   "execution_count": 7,
   "id": "dd313ff9",
   "metadata": {},
   "outputs": [],
   "source": [
    "#P, G\n",
    "P = 23\n",
    "G = 9"
   ]
  },
  {
   "cell_type": "code",
   "execution_count": 8,
   "id": "a428143f",
   "metadata": {},
   "outputs": [],
   "source": [
    "a = 4\n",
    "b = 3"
   ]
  },
  {
   "cell_type": "code",
   "execution_count": 9,
   "id": "ba0c6dbf",
   "metadata": {},
   "outputs": [],
   "source": [
    "Xa = pow(G, a) % P\n",
    "Xb = pow(G, b) % P"
   ]
  },
  {
   "cell_type": "code",
   "execution_count": 10,
   "id": "6d89df04",
   "metadata": {},
   "outputs": [],
   "source": [
    "symm_key_a = pow(Xb, a) % P\n",
    "symm_key_b = pow(Xa, b) % P"
   ]
  },
  {
   "cell_type": "code",
   "execution_count": 11,
   "id": "90995608",
   "metadata": {},
   "outputs": [
    {
     "data": {
      "text/plain": [
       "9"
      ]
     },
     "execution_count": 11,
     "metadata": {},
     "output_type": "execute_result"
    }
   ],
   "source": [
    "symm_key_a"
   ]
  },
  {
   "cell_type": "code",
   "execution_count": 12,
   "id": "c1046f92",
   "metadata": {},
   "outputs": [
    {
     "data": {
      "text/plain": [
       "9"
      ]
     },
     "execution_count": 12,
     "metadata": {},
     "output_type": "execute_result"
    }
   ],
   "source": [
    "symm_key_b"
   ]
  },
  {
   "cell_type": "code",
   "execution_count": null,
   "id": "fa24e2fd",
   "metadata": {},
   "outputs": [],
   "source": []
  }
 ],
 "metadata": {
  "kernelspec": {
   "display_name": "Python 3 (ipykernel)",
   "language": "python",
   "name": "python3"
  },
  "language_info": {
   "codemirror_mode": {
    "name": "ipython",
    "version": 3
   },
   "file_extension": ".py",
   "mimetype": "text/x-python",
   "name": "python",
   "nbconvert_exporter": "python",
   "pygments_lexer": "ipython3",
   "version": "3.9.10"
  }
 },
 "nbformat": 4,
 "nbformat_minor": 5
}
