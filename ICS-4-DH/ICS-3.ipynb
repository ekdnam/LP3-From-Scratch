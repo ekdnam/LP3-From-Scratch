{
 "cells": [
  {
   "cell_type": "code",
   "execution_count": 2,
   "id": "9b95331d",
   "metadata": {},
   "outputs": [],
   "source": [
    "# public numbers\n",
    "P = 23\n",
    "G = 14"
   ]
  },
  {
   "cell_type": "code",
   "execution_count": 3,
   "id": "4a2fd52a",
   "metadata": {},
   "outputs": [],
   "source": [
    "# private keys\n",
    "a = 4\n",
    "b = 3"
   ]
  },
  {
   "cell_type": "code",
   "execution_count": 4,
   "id": "7b1519a6",
   "metadata": {},
   "outputs": [],
   "source": [
    "# public keys\n",
    "key_a = pow(G, a) % P\n",
    "key_b = pow(G, b) % P"
   ]
  },
  {
   "cell_type": "code",
   "execution_count": 8,
   "id": "1f2a7c36",
   "metadata": {},
   "outputs": [],
   "source": [
    "symm_key_a = pow(key_b, a) % P\n",
    "symm_key_b = pow(key_a, b) % P"
   ]
  },
  {
   "cell_type": "code",
   "execution_count": 9,
   "id": "7f726373",
   "metadata": {},
   "outputs": [
    {
     "data": {
      "text/plain": [
       "9"
      ]
     },
     "execution_count": 9,
     "metadata": {},
     "output_type": "execute_result"
    }
   ],
   "source": [
    "symm_key_a"
   ]
  },
  {
   "cell_type": "code",
   "execution_count": 10,
   "id": "e8774d3b",
   "metadata": {},
   "outputs": [
    {
     "data": {
      "text/plain": [
       "9"
      ]
     },
     "execution_count": 10,
     "metadata": {},
     "output_type": "execute_result"
    }
   ],
   "source": [
    "symm_key_b"
   ]
  },
  {
   "cell_type": "code",
   "execution_count": 11,
   "id": "ea140b33",
   "metadata": {},
   "outputs": [],
   "source": [
    "P = 23\n",
    "G = 14"
   ]
  },
  {
   "cell_type": "code",
   "execution_count": 12,
   "id": "cacfed3d",
   "metadata": {},
   "outputs": [],
   "source": [
    "a = 4\n",
    "b = 3"
   ]
  },
  {
   "cell_type": "code",
   "execution_count": 13,
   "id": "e7de6c91",
   "metadata": {},
   "outputs": [],
   "source": [
    "x = pow(G, a) % P\n",
    "y = pow(G, b) % P"
   ]
  },
  {
   "cell_type": "code",
   "execution_count": 14,
   "id": "f4ac3333",
   "metadata": {},
   "outputs": [
    {
     "data": {
      "text/plain": [
       "6"
      ]
     },
     "execution_count": 14,
     "metadata": {},
     "output_type": "execute_result"
    }
   ],
   "source": [
    "x"
   ]
  },
  {
   "cell_type": "code",
   "execution_count": 15,
   "id": "13345e3b",
   "metadata": {},
   "outputs": [
    {
     "data": {
      "text/plain": [
       "7"
      ]
     },
     "execution_count": 15,
     "metadata": {},
     "output_type": "execute_result"
    }
   ],
   "source": [
    "y"
   ]
  },
  {
   "cell_type": "code",
   "execution_count": 16,
   "id": "49e24c34",
   "metadata": {},
   "outputs": [],
   "source": [
    "symm_key_a = pow(x, b) % P\n",
    "symm_key_b = pow(y, a) % P"
   ]
  },
  {
   "cell_type": "code",
   "execution_count": 17,
   "id": "336b595b",
   "metadata": {},
   "outputs": [
    {
     "data": {
      "text/plain": [
       "9"
      ]
     },
     "execution_count": 17,
     "metadata": {},
     "output_type": "execute_result"
    }
   ],
   "source": [
    "symm_key_a"
   ]
  },
  {
   "cell_type": "code",
   "execution_count": 18,
   "id": "5776077a",
   "metadata": {},
   "outputs": [
    {
     "data": {
      "text/plain": [
       "9"
      ]
     },
     "execution_count": 18,
     "metadata": {},
     "output_type": "execute_result"
    }
   ],
   "source": [
    "symm_key_b"
   ]
  },
  {
   "cell_type": "code",
   "execution_count": 82,
   "id": "744a617c",
   "metadata": {},
   "outputs": [],
   "source": [
    "P = 23\n",
    "G = 14"
   ]
  },
  {
   "cell_type": "code",
   "execution_count": 83,
   "id": "d5d94a5e",
   "metadata": {},
   "outputs": [],
   "source": [
    "Xa = 4\n",
    "Xb = 3"
   ]
  },
  {
   "cell_type": "code",
   "execution_count": 84,
   "id": "fe42e2d4",
   "metadata": {},
   "outputs": [],
   "source": [
    "x = pow(G, Xa) % P\n",
    "y = pow(G, Xb) % P"
   ]
  },
  {
   "cell_type": "code",
   "execution_count": 85,
   "id": "7aa4cc0f",
   "metadata": {},
   "outputs": [
    {
     "data": {
      "text/plain": [
       "6"
      ]
     },
     "execution_count": 85,
     "metadata": {},
     "output_type": "execute_result"
    }
   ],
   "source": [
    "x"
   ]
  },
  {
   "cell_type": "code",
   "execution_count": 86,
   "id": "68214be4",
   "metadata": {},
   "outputs": [
    {
     "data": {
      "text/plain": [
       "7"
      ]
     },
     "execution_count": 86,
     "metadata": {},
     "output_type": "execute_result"
    }
   ],
   "source": [
    "y"
   ]
  },
  {
   "cell_type": "code",
   "execution_count": 87,
   "id": "d48bf27a",
   "metadata": {},
   "outputs": [],
   "source": [
    "symm_key_a = pow(y, a) % P\n",
    "symm_key_b = pow(x, b) % P"
   ]
  },
  {
   "cell_type": "code",
   "execution_count": 88,
   "id": "2dfed2cd",
   "metadata": {},
   "outputs": [
    {
     "data": {
      "text/plain": [
       "9"
      ]
     },
     "execution_count": 88,
     "metadata": {},
     "output_type": "execute_result"
    }
   ],
   "source": [
    "symm_key_a"
   ]
  },
  {
   "cell_type": "code",
   "execution_count": 89,
   "id": "6f391fc3",
   "metadata": {},
   "outputs": [
    {
     "data": {
      "text/plain": [
       "9"
      ]
     },
     "execution_count": 89,
     "metadata": {},
     "output_type": "execute_result"
    }
   ],
   "source": [
    "symm_key_b"
   ]
  },
  {
   "cell_type": "code",
   "execution_count": 90,
   "id": "327873d2",
   "metadata": {},
   "outputs": [],
   "source": [
    "# Prime number P\n",
    "P = 23\n",
    "# G is primitive root of P\n",
    "G = 14"
   ]
  },
  {
   "cell_type": "code",
   "execution_count": 91,
   "id": "d66e69ee",
   "metadata": {},
   "outputs": [],
   "source": [
    "# private keys\n",
    "a = 4\n",
    "b = 3"
   ]
  },
  {
   "cell_type": "code",
   "execution_count": 92,
   "id": "ca2eaf68",
   "metadata": {},
   "outputs": [],
   "source": [
    "# public keys\n",
    "Xa = pow(G, a) % P\n",
    "Xb = pow(G, b) % P"
   ]
  },
  {
   "cell_type": "code",
   "execution_count": 93,
   "id": "637fb7df",
   "metadata": {},
   "outputs": [],
   "source": [
    "# private symmetric keys\n",
    "symm_key_a = pow(Xb, a) % P\n",
    "symm_key_b = pow(Xa, b) % P"
   ]
  },
  {
   "cell_type": "code",
   "execution_count": 95,
   "id": "7e110dad",
   "metadata": {},
   "outputs": [
    {
     "data": {
      "text/plain": [
       "9"
      ]
     },
     "execution_count": 95,
     "metadata": {},
     "output_type": "execute_result"
    }
   ],
   "source": [
    "symm_key_a"
   ]
  },
  {
   "cell_type": "code",
   "execution_count": 96,
   "id": "c41d38d6",
   "metadata": {},
   "outputs": [
    {
     "data": {
      "text/plain": [
       "9"
      ]
     },
     "execution_count": 96,
     "metadata": {},
     "output_type": "execute_result"
    }
   ],
   "source": [
    "symm_key_b"
   ]
  },
  {
   "cell_type": "code",
   "execution_count": null,
   "id": "2a8e376b",
   "metadata": {},
   "outputs": [],
   "source": []
  }
 ],
 "metadata": {
  "kernelspec": {
   "display_name": "Python 3 (ipykernel)",
   "language": "python",
   "name": "python3"
  },
  "language_info": {
   "codemirror_mode": {
    "name": "ipython",
    "version": 3
   },
   "file_extension": ".py",
   "mimetype": "text/x-python",
   "name": "python",
   "nbconvert_exporter": "python",
   "pygments_lexer": "ipython3",
   "version": "3.9.10"
  }
 },
 "nbformat": 4,
 "nbformat_minor": 5
}
