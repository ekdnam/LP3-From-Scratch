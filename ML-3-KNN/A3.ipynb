{
 "cells": [
  {
   "cell_type": "code",
   "execution_count": 1,
   "id": "9504140c",
   "metadata": {},
   "outputs": [],
   "source": [
    "import pandas as pd\n",
    "import numpy as np\n",
    "import matplotlib.pyplot as plt"
   ]
  },
  {
   "cell_type": "code",
   "execution_count": 58,
   "id": "0444dc22",
   "metadata": {},
   "outputs": [],
   "source": [
    "class KNN:\n",
    "    def __init__(self, k):\n",
    "        self.k = k\n",
    "        self.X = []\n",
    "        self.y = []\n",
    "        \n",
    "    def fit(self, X, y):\n",
    "        self.X += X\n",
    "        self.y += y\n",
    "    \n",
    "    def _get_distance(self, x, y):\n",
    "        return np.sqrt((x[0]-y[0])**2 + (x[1]-y[1])**2)\n",
    "    \n",
    "    def _get_class(self, X):\n",
    "        distances = []\n",
    "        for i in range(len(self.X)):\n",
    "            distances.append((self._get_distance(X, self.X[i]), self.y[i]))\n",
    "        distances.sort()\n",
    "        distances = distances[:self.k]\n",
    "        counts = {}\n",
    "        for d in distances:\n",
    "            print(d)\n",
    "            try: counts[d[1]] += 1\n",
    "            except: counts[d[1]] = 1\n",
    "        return max(counts, key = lambda i: counts[i])    \n",
    "\n",
    "    def predict(self, X):\n",
    "        preds = []\n",
    "        for x in X:\n",
    "            preds.append(self._get_class(x))\n",
    "        return preds\n",
    "    \n",
    "    def _get_weighted_class(self, X):\n",
    "        distances = []\n",
    "        for i in range(len(self.X)):\n",
    "            distances.append((self._get_distance(X, self.X[i]), self.y[i]))\n",
    "        distances.sort()\n",
    "        distances = distances[:self.k]\n",
    "        counts = {}\n",
    "        for d in distances:\n",
    "            try:\n",
    "                counts[d[1]] += 1 / d[0]\n",
    "            except:\n",
    "                counts[d[1]] = 1 / d[0]\n",
    "        return max(counts, key = lambda x: counts[i])\n",
    "    \n",
    "    def predict_weighted(self, X):\n",
    "        preds = []\n",
    "        for x in X:\n",
    "            preds.append(self._get_weighted_class(x))\n",
    "        return preds\n",
    "    \n",
    "    def _get_locally_weighted_class(self, X):\n",
    "        distances = []\n",
    "        for i in range(len(self.X)):\n",
    "            distances.append((self._get_distance(X, self.X[i]), self.y[i]))\n",
    "        distances.sort()\n",
    "        distances = distances[:self.k]\n",
    "        counts = {}\n",
    "        for d in distances:\n",
    "            try:\n",
    "                counts[d[1]].append(1 / d[0])\n",
    "            except:\n",
    "                counts[d[1]] = [1 / d[0]]\n",
    "        return max(counts, key = lambda x: counts[i])\n",
    "    \n",
    "    def predict_locally_weighted(self, X):\n",
    "        preds = []\n",
    "        for x in X:\n",
    "            preds.append(self._get_locally_weighted_class(x))\n",
    "        return preds"
   ]
  },
  {
   "cell_type": "code",
   "execution_count": 59,
   "id": "965553db",
   "metadata": {},
   "outputs": [],
   "source": [
    "X = [\n",
    "    (2, 4),\n",
    "    (4, 6),\n",
    "    (4, 4),\n",
    "    (4, 2),\n",
    "    (6, 4),\n",
    "    (6, 2)\n",
    "]\n",
    "\n",
    "y = ['Y', 'Y', 'B', 'Y', 'Y', 'B']"
   ]
  },
  {
   "cell_type": "code",
   "execution_count": 60,
   "id": "a28d9526",
   "metadata": {},
   "outputs": [],
   "source": [
    "model = KNN(3)"
   ]
  },
  {
   "cell_type": "code",
   "execution_count": 61,
   "id": "8120e9b5",
   "metadata": {},
   "outputs": [],
   "source": [
    "model.fit(X, y)"
   ]
  },
  {
   "cell_type": "code",
   "execution_count": 62,
   "id": "d2595d35",
   "metadata": {},
   "outputs": [
    {
     "name": "stdout",
     "output_type": "stream",
     "text": [
      "(2.0, 'Y')\n",
      "(2.0, 'Y')\n",
      "(2.8284271247461903, 'B')\n"
     ]
    },
    {
     "data": {
      "text/plain": [
       "['Y']"
      ]
     },
     "execution_count": 62,
     "metadata": {},
     "output_type": "execute_result"
    }
   ],
   "source": [
    "model.predict([(6,6)])"
   ]
  },
  {
   "cell_type": "code",
   "execution_count": null,
   "id": "55ca0946",
   "metadata": {},
   "outputs": [],
   "source": []
  }
 ],
 "metadata": {
  "kernelspec": {
   "display_name": "Python 3 (ipykernel)",
   "language": "python",
   "name": "python3"
  },
  "language_info": {
   "codemirror_mode": {
    "name": "ipython",
    "version": 3
   },
   "file_extension": ".py",
   "mimetype": "text/x-python",
   "name": "python",
   "nbconvert_exporter": "python",
   "pygments_lexer": "ipython3",
   "version": "3.9.10"
  }
 },
 "nbformat": 4,
 "nbformat_minor": 5
}
