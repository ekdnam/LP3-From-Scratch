{
 "cells": [
  {
   "cell_type": "code",
   "execution_count": 2,
   "id": "474bdef1",
   "metadata": {},
   "outputs": [],
   "source": [
    "import numpy as np"
   ]
  },
  {
   "cell_type": "code",
   "execution_count": 146,
   "id": "e41a5527",
   "metadata": {},
   "outputs": [],
   "source": [
    "class KNN:\n",
    "    def __init__(self, k=2):\n",
    "        self.k = k\n",
    "        self.x = []\n",
    "        self.labels = []\n",
    "        \n",
    "    def fit(self, x, labels):\n",
    "        self.x = self.x + x\n",
    "        self.labels = self.labels + labels\n",
    "    \n",
    "    def _distance(self, a1, a2):\n",
    "#         print(a1)\n",
    "#         print(a2)\n",
    "        return (a1[0] - a2[0]) ** 2 + (a1[1] - a2[1]) ** 2\n",
    "    \n",
    "    def get_distances(self, x):\n",
    "        distances = []\n",
    "        for i in range(len(self.x)):\n",
    "            distance = self._distance(x, self.x[i])\n",
    "            distances.append((distance, self.labels[i]))\n",
    "        return distances\n",
    "    \n",
    "    def predict(self, x):\n",
    "        preds = []\n",
    "        for xi in x:\n",
    "            preds.append(self._get_class(xi))\n",
    "        return preds\n",
    "    \n",
    "    def _get_class(self, x):\n",
    "        distances = self.get_distances(x)\n",
    "        distances.sort()\n",
    "        distances = distances[:self.k]\n",
    "        counts = {}\n",
    "        for d in distances:\n",
    "            try: counts[d[1]] += 1\n",
    "            except: counts[d[1]] = 1\n",
    "        return max(counts, key = lambda i: counts[i])\n",
    "    \n",
    "    def predict_weighted_average(self, x):\n",
    "        preds = []\n",
    "        for xi in x:\n",
    "            preds.append(self._get_class_weighted_average(xi))\n",
    "        return preds\n",
    "    \n",
    "    def _get_class_weighted_average(self, x):\n",
    "        distances = self.get_distances(x)\n",
    "        distances.sort()\n",
    "        distances = distances[:self.k]\n",
    "        counts = {}\n",
    "        for d in distances:\n",
    "            try: counts[d[1]] += 1 / d[0]\n",
    "            except: counts[d[1]] = 1 / d[0]\n",
    "        return max(counts, key = lambda i: counts[i])\n",
    "    \n",
    "    def predict_locally_weighted_average(self, x):\n",
    "        preds = []\n",
    "        for xi in x:\n",
    "            preds.append(self._get_class_locally_weighted_average(xi))\n",
    "        return preds\n",
    "    \n",
    "    def _get_class_locally_weighted_average(self, x):\n",
    "        distances = self.get_distances(x)\n",
    "        distances.sort()\n",
    "        distances = distances[:self.k]\n",
    "        counts = {}\n",
    "        for d in distances:\n",
    "            try: counts[d[1]].append(1 / d[0])\n",
    "            except: counts[d[1]] = [1 / d[0]]\n",
    "        for c in counts:\n",
    "            counts[c] = np.mean(counts[c])\n",
    "        return max(counts, key = lambda i: counts[i])"
   ]
  },
  {
   "cell_type": "code",
   "execution_count": 147,
   "id": "62f772c8",
   "metadata": {},
   "outputs": [],
   "source": [
    "X = [\n",
    "     (2, 4),\n",
    "     (4, 6),\n",
    "     (4, 4),\n",
    "     (4, 2),\n",
    "     (6, 4),\n",
    "     (6 ,2)\n",
    "]\n",
    "labels = ['Y', 'Y', 'B', 'Y', 'Y', 'B']"
   ]
  },
  {
   "cell_type": "code",
   "execution_count": 148,
   "id": "21d7cd5e",
   "metadata": {},
   "outputs": [],
   "source": [
    "model = KNN(3)"
   ]
  },
  {
   "cell_type": "code",
   "execution_count": 149,
   "id": "d90f0ae5",
   "metadata": {},
   "outputs": [],
   "source": [
    "model.fit(X, labels)"
   ]
  },
  {
   "cell_type": "code",
   "execution_count": 150,
   "id": "26c297db",
   "metadata": {},
   "outputs": [
    {
     "data": {
      "text/plain": [
       "['Y']"
      ]
     },
     "execution_count": 150,
     "metadata": {},
     "output_type": "execute_result"
    }
   ],
   "source": [
    "model.predict([(6,6)])"
   ]
  },
  {
   "cell_type": "code",
   "execution_count": 151,
   "id": "cc9dd48f",
   "metadata": {},
   "outputs": [
    {
     "data": {
      "text/plain": [
       "['Y']"
      ]
     },
     "execution_count": 151,
     "metadata": {},
     "output_type": "execute_result"
    }
   ],
   "source": [
    "model.predict_weighted_average([(6,6)])"
   ]
  },
  {
   "cell_type": "code",
   "execution_count": 152,
   "id": "a873424b",
   "metadata": {},
   "outputs": [
    {
     "data": {
      "text/plain": [
       "['Y']"
      ]
     },
     "execution_count": 152,
     "metadata": {},
     "output_type": "execute_result"
    }
   ],
   "source": [
    "model.predict_locally_weighted_average([(6,6)])"
   ]
  },
  {
   "cell_type": "code",
   "execution_count": null,
   "id": "9b221aa9",
   "metadata": {},
   "outputs": [],
   "source": []
  }
 ],
 "metadata": {
  "kernelspec": {
   "display_name": "Python 3 (ipykernel)",
   "language": "python",
   "name": "python3"
  },
  "language_info": {
   "codemirror_mode": {
    "name": "ipython",
    "version": 3
   },
   "file_extension": ".py",
   "mimetype": "text/x-python",
   "name": "python",
   "nbconvert_exporter": "python",
   "pygments_lexer": "ipython3",
   "version": "3.9.10"
  }
 },
 "nbformat": 4,
 "nbformat_minor": 5
}
