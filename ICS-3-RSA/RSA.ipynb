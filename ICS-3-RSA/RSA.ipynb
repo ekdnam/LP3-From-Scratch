{
 "cells": [
  {
   "cell_type": "code",
   "execution_count": 24,
   "id": "d44fc91b",
   "metadata": {},
   "outputs": [],
   "source": [
    "# P, Q = large primes\n",
    "P = 31\n",
    "Q = 37"
   ]
  },
  {
   "cell_type": "code",
   "execution_count": 25,
   "id": "c2731ea3",
   "metadata": {},
   "outputs": [
    {
     "name": "stdout",
     "output_type": "stream",
     "text": [
      "1147\n"
     ]
    }
   ],
   "source": [
    "# Generate n\n",
    "n = P*Q\n",
    "print(n)"
   ]
  },
  {
   "cell_type": "code",
   "execution_count": 26,
   "id": "db8ff720",
   "metadata": {},
   "outputs": [
    {
     "name": "stdout",
     "output_type": "stream",
     "text": [
      "1080\n"
     ]
    }
   ],
   "source": [
    "phi_n = (P-1)*(Q-1)\n",
    "print(phi_n)"
   ]
  },
  {
   "cell_type": "code",
   "execution_count": 27,
   "id": "84e58161",
   "metadata": {},
   "outputs": [],
   "source": [
    "def gcd(a, b):\n",
    "    if a == 0:\n",
    "        return b\n",
    "    return gcd(b%a, a)"
   ]
  },
  {
   "cell_type": "code",
   "execution_count": 28,
   "id": "e27e3074",
   "metadata": {},
   "outputs": [],
   "source": [
    "e = 2\n",
    "while e < phi_n:\n",
    "    if(gcd(e, phi_n) == 1):\n",
    "        break\n",
    "    e += 1"
   ]
  },
  {
   "cell_type": "code",
   "execution_count": 29,
   "id": "ba7dd8c5",
   "metadata": {},
   "outputs": [
    {
     "data": {
      "text/plain": [
       "7"
      ]
     },
     "execution_count": 29,
     "metadata": {},
     "output_type": "execute_result"
    }
   ],
   "source": [
    "e"
   ]
  },
  {
   "cell_type": "code",
   "execution_count": 40,
   "id": "ec3b9353",
   "metadata": {},
   "outputs": [],
   "source": [
    "k = 1\n",
    "while (k*phi_n + 1) % e != 0:\n",
    "    k += 1\n",
    "d = (k*phi_n + 1)//e"
   ]
  },
  {
   "cell_type": "code",
   "execution_count": 41,
   "id": "5c0a1686",
   "metadata": {},
   "outputs": [
    {
     "data": {
      "text/plain": [
       "463"
      ]
     },
     "execution_count": 41,
     "metadata": {},
     "output_type": "execute_result"
    }
   ],
   "source": [
    "d"
   ]
  },
  {
   "cell_type": "code",
   "execution_count": 42,
   "id": "e7f07bfd",
   "metadata": {},
   "outputs": [],
   "source": [
    "public_key = [e, n]\n",
    "private_key = [d, n]"
   ]
  },
  {
   "cell_type": "code",
   "execution_count": 43,
   "id": "123bba92",
   "metadata": {},
   "outputs": [],
   "source": [
    "def encrypt(public_key, message):\n",
    "    e, n = public_key\n",
    "    c = pow(message, e) % n\n",
    "    return c"
   ]
  },
  {
   "cell_type": "code",
   "execution_count": 44,
   "id": "13157ce6",
   "metadata": {},
   "outputs": [],
   "source": [
    "def decrypt(private_key, c):\n",
    "    d, n = private_key\n",
    "    p = pow(c, d) % n\n",
    "    return p"
   ]
  },
  {
   "cell_type": "code",
   "execution_count": 45,
   "id": "73dd9666",
   "metadata": {},
   "outputs": [],
   "source": [
    "message = 24"
   ]
  },
  {
   "cell_type": "code",
   "execution_count": 46,
   "id": "6c393337",
   "metadata": {},
   "outputs": [],
   "source": [
    "c = encrypt(public_key, message)"
   ]
  },
  {
   "cell_type": "code",
   "execution_count": 47,
   "id": "38e7c759",
   "metadata": {},
   "outputs": [
    {
     "data": {
      "text/plain": [
       "375"
      ]
     },
     "execution_count": 47,
     "metadata": {},
     "output_type": "execute_result"
    }
   ],
   "source": [
    "c"
   ]
  },
  {
   "cell_type": "code",
   "execution_count": 48,
   "id": "cefd9462",
   "metadata": {},
   "outputs": [],
   "source": [
    "d = decrypt(private_key, c)"
   ]
  },
  {
   "cell_type": "code",
   "execution_count": 49,
   "id": "4ba774e9",
   "metadata": {},
   "outputs": [
    {
     "data": {
      "text/plain": [
       "24"
      ]
     },
     "execution_count": 49,
     "metadata": {},
     "output_type": "execute_result"
    }
   ],
   "source": [
    "d"
   ]
  },
  {
   "cell_type": "code",
   "execution_count": 50,
   "id": "01c06cd3",
   "metadata": {},
   "outputs": [],
   "source": [
    "P = 37\n",
    "G = 31"
   ]
  },
  {
   "cell_type": "code",
   "execution_count": 51,
   "id": "1ca36b8a",
   "metadata": {},
   "outputs": [],
   "source": [
    "n = P*G"
   ]
  },
  {
   "cell_type": "code",
   "execution_count": 52,
   "id": "970538bc",
   "metadata": {},
   "outputs": [],
   "source": [
    "phi_n = (P-1)*(G-1)"
   ]
  },
  {
   "cell_type": "code",
   "execution_count": 53,
   "id": "0cd111e0",
   "metadata": {},
   "outputs": [
    {
     "data": {
      "text/plain": [
       "1080"
      ]
     },
     "execution_count": 53,
     "metadata": {},
     "output_type": "execute_result"
    }
   ],
   "source": [
    "phi_n"
   ]
  },
  {
   "cell_type": "code",
   "execution_count": 54,
   "id": "bf45e767",
   "metadata": {},
   "outputs": [
    {
     "data": {
      "text/plain": [
       "1147"
      ]
     },
     "execution_count": 54,
     "metadata": {},
     "output_type": "execute_result"
    }
   ],
   "source": [
    "n"
   ]
  },
  {
   "cell_type": "code",
   "execution_count": 55,
   "id": "7ad8fc3e",
   "metadata": {},
   "outputs": [
    {
     "name": "stdout",
     "output_type": "stream",
     "text": [
      "7\n"
     ]
    }
   ],
   "source": [
    "e = 2\n",
    "while e < phi_n:\n",
    "    if gcd(e, phi_n) == 1:\n",
    "        break\n",
    "    e += 1\n",
    "print(e)"
   ]
  },
  {
   "cell_type": "code",
   "execution_count": 57,
   "id": "9d35b1fe",
   "metadata": {},
   "outputs": [
    {
     "name": "stdout",
     "output_type": "stream",
     "text": [
      "463\n"
     ]
    }
   ],
   "source": [
    "k = 1\n",
    "while (k*phi_n + 1) % e != 0:\n",
    "    k += 1\n",
    "d = (k*phi_n + 1)//e\n",
    "print(d)"
   ]
  },
  {
   "cell_type": "code",
   "execution_count": 59,
   "id": "452853a8",
   "metadata": {},
   "outputs": [
    {
     "name": "stdout",
     "output_type": "stream",
     "text": [
      "e, d: 7, 463\n"
     ]
    }
   ],
   "source": [
    "print(f'e, d: {e}, {d}')"
   ]
  },
  {
   "cell_type": "code",
   "execution_count": 60,
   "id": "b7117de9",
   "metadata": {},
   "outputs": [
    {
     "name": "stdout",
     "output_type": "stream",
     "text": [
      "Public key: [7, 1147]\n",
      "Private key: [463, 1147]\n"
     ]
    }
   ],
   "source": [
    "print(f'Public key: [{e}, {n}]')\n",
    "print(f'Private key: [{d}, {n}]')"
   ]
  },
  {
   "cell_type": "code",
   "execution_count": 61,
   "id": "c6e9eec7",
   "metadata": {},
   "outputs": [],
   "source": [
    "public_key = [e, n]\n",
    "private_key = [d, n]"
   ]
  },
  {
   "cell_type": "code",
   "execution_count": 63,
   "id": "8068b4f0",
   "metadata": {},
   "outputs": [],
   "source": [
    "def encrypt(public_key, message):\n",
    "    e, n= public_key\n",
    "    ciphertext = pow(message, e) % n\n",
    "    return ciphertext"
   ]
  },
  {
   "cell_type": "code",
   "execution_count": 64,
   "id": "f1b6f9d4",
   "metadata": {},
   "outputs": [],
   "source": [
    "def decrypt(private_key, ciphertext):\n",
    "    d, n = private_key\n",
    "    message = pow(ciphertext, d) % n\n",
    "    return message"
   ]
  },
  {
   "cell_type": "code",
   "execution_count": 65,
   "id": "922c9989",
   "metadata": {},
   "outputs": [],
   "source": [
    "message = 405"
   ]
  },
  {
   "cell_type": "code",
   "execution_count": 66,
   "id": "af3abe63",
   "metadata": {},
   "outputs": [],
   "source": [
    "c = encrypt(public_key, message)"
   ]
  },
  {
   "cell_type": "code",
   "execution_count": 67,
   "id": "482e242e",
   "metadata": {},
   "outputs": [
    {
     "data": {
      "text/plain": [
       "686"
      ]
     },
     "execution_count": 67,
     "metadata": {},
     "output_type": "execute_result"
    }
   ],
   "source": [
    "c"
   ]
  },
  {
   "cell_type": "code",
   "execution_count": 68,
   "id": "88a3e056",
   "metadata": {},
   "outputs": [
    {
     "name": "stdout",
     "output_type": "stream",
     "text": [
      "405\n"
     ]
    }
   ],
   "source": [
    "message = decrypt(private_key, c)\n",
    "print(message)"
   ]
  },
  {
   "cell_type": "code",
   "execution_count": null,
   "id": "1f7fbb50",
   "metadata": {},
   "outputs": [],
   "source": []
  }
 ],
 "metadata": {
  "kernelspec": {
   "display_name": "Python 3 (ipykernel)",
   "language": "python",
   "name": "python3"
  },
  "language_info": {
   "codemirror_mode": {
    "name": "ipython",
    "version": 3
   },
   "file_extension": ".py",
   "mimetype": "text/x-python",
   "name": "python",
   "nbconvert_exporter": "python",
   "pygments_lexer": "ipython3",
   "version": "3.9.10"
  }
 },
 "nbformat": 4,
 "nbformat_minor": 5
}
