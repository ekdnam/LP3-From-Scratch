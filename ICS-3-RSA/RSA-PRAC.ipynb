{
 "cells": [
  {
   "cell_type": "code",
   "execution_count": 1,
   "id": "04243612",
   "metadata": {},
   "outputs": [],
   "source": [
    "# P, Q are big primes\n",
    "P = 31\n",
    "Q = 29"
   ]
  },
  {
   "cell_type": "code",
   "execution_count": 2,
   "id": "fcb90faf",
   "metadata": {},
   "outputs": [],
   "source": [
    "n = P*Q"
   ]
  },
  {
   "cell_type": "code",
   "execution_count": 3,
   "id": "b8ccba7a",
   "metadata": {},
   "outputs": [],
   "source": [
    "phi_n = (P-1)*(Q-1)"
   ]
  },
  {
   "cell_type": "code",
   "execution_count": 6,
   "id": "fd3733f4",
   "metadata": {},
   "outputs": [
    {
     "data": {
      "text/plain": [
       "840"
      ]
     },
     "execution_count": 6,
     "metadata": {},
     "output_type": "execute_result"
    }
   ],
   "source": [
    "phi_n"
   ]
  },
  {
   "cell_type": "code",
   "execution_count": 4,
   "id": "ed57d50a",
   "metadata": {},
   "outputs": [],
   "source": [
    "def gcd(a, b):\n",
    "    if a == 0:\n",
    "        return b\n",
    "    return gcd(b%a, a)"
   ]
  },
  {
   "cell_type": "code",
   "execution_count": 5,
   "id": "9de8dbb5",
   "metadata": {},
   "outputs": [
    {
     "name": "stdout",
     "output_type": "stream",
     "text": [
      "11\n"
     ]
    }
   ],
   "source": [
    "e = 2\n",
    "while e < phi_n:\n",
    "    if gcd(e, phi_n) == 1:\n",
    "        break\n",
    "    e += 1\n",
    "print(e)"
   ]
  },
  {
   "cell_type": "code",
   "execution_count": 7,
   "id": "ac410e62",
   "metadata": {},
   "outputs": [],
   "source": [
    "k = 1\n",
    "while (k*phi_n + 1) % e != 0:\n",
    "    k += 1\n",
    "d = (k*phi_n + 1) // e"
   ]
  },
  {
   "cell_type": "code",
   "execution_count": 8,
   "id": "cac9972b",
   "metadata": {},
   "outputs": [
    {
     "data": {
      "text/plain": [
       "611"
      ]
     },
     "execution_count": 8,
     "metadata": {},
     "output_type": "execute_result"
    }
   ],
   "source": [
    "d"
   ]
  },
  {
   "cell_type": "code",
   "execution_count": 9,
   "id": "37e3d22b",
   "metadata": {},
   "outputs": [
    {
     "data": {
      "text/plain": [
       "8"
      ]
     },
     "execution_count": 9,
     "metadata": {},
     "output_type": "execute_result"
    }
   ],
   "source": [
    "k"
   ]
  },
  {
   "cell_type": "code",
   "execution_count": 10,
   "id": "4a87bbf1",
   "metadata": {},
   "outputs": [],
   "source": [
    "public_key = (e, n)\n",
    "private_key = (d, n)"
   ]
  },
  {
   "cell_type": "code",
   "execution_count": 11,
   "id": "6a3718dc",
   "metadata": {},
   "outputs": [],
   "source": [
    "def encrypt(m, public_key):\n",
    "    e, n = public_key\n",
    "    return pow(m, e) % n"
   ]
  },
  {
   "cell_type": "code",
   "execution_count": 12,
   "id": "c51b0cf5",
   "metadata": {},
   "outputs": [],
   "source": [
    "def decrypt(m, private_key):\n",
    "    d, n = private_key\n",
    "    return pow(m, d) % n"
   ]
  },
  {
   "cell_type": "code",
   "execution_count": 14,
   "id": "045e6fca",
   "metadata": {},
   "outputs": [
    {
     "data": {
      "text/plain": [
       "100"
      ]
     },
     "execution_count": 14,
     "metadata": {},
     "output_type": "execute_result"
    }
   ],
   "source": [
    "m = 100\n",
    "decrypt(encrypt(m, public_key), private_key)"
   ]
  },
  {
   "cell_type": "code",
   "execution_count": null,
   "id": "187ab2fd",
   "metadata": {},
   "outputs": [],
   "source": []
  }
 ],
 "metadata": {
  "kernelspec": {
   "display_name": "Python 3 (ipykernel)",
   "language": "python",
   "name": "python3"
  },
  "language_info": {
   "codemirror_mode": {
    "name": "ipython",
    "version": 3
   },
   "file_extension": ".py",
   "mimetype": "text/x-python",
   "name": "python",
   "nbconvert_exporter": "python",
   "pygments_lexer": "ipython3",
   "version": "3.9.10"
  }
 },
 "nbformat": 4,
 "nbformat_minor": 5
}
