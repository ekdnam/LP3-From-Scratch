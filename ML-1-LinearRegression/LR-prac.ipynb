{
 "cells": [
  {
   "cell_type": "code",
   "execution_count": 1,
   "id": "f5bc5962",
   "metadata": {},
   "outputs": [],
   "source": [
    "import numpy as np\n",
    "import matplotlib.pyplot as plt"
   ]
  },
  {
   "cell_type": "code",
   "execution_count": 2,
   "id": "d6e79c60",
   "metadata": {},
   "outputs": [],
   "source": [
    "from matplotlib import style\n",
    "style.use('ggplot')"
   ]
  },
  {
   "cell_type": "code",
   "execution_count": 3,
   "id": "f363299c",
   "metadata": {},
   "outputs": [],
   "source": [
    "x = np.array([10, 9, 2, 15, 10, 16, 11, 16], dtype=float)\n",
    "y = np.array([95, 80, 10, 50, 45, 98, 38, 93], dtype=float)"
   ]
  },
  {
   "cell_type": "code",
   "execution_count": 4,
   "id": "122432a7",
   "metadata": {},
   "outputs": [],
   "source": [
    "assert(x.shape[0] == y.shape[0])"
   ]
  },
  {
   "cell_type": "code",
   "execution_count": 5,
   "id": "2ed71571",
   "metadata": {},
   "outputs": [],
   "source": [
    "def plot_data(x, y):\n",
    "    plt.scatter(x, y, s=10)\n",
    "    plt.xlabel('Hours spent driving')\n",
    "    plt.ylabel('Risk score')\n",
    "    plt.plot()"
   ]
  },
  {
   "cell_type": "code",
   "execution_count": 6,
   "id": "2f059a80",
   "metadata": {},
   "outputs": [
    {
     "data": {
      "image/png": "[encoded data removed]",
      "text/plain": [
       "<Figure size 432x288 with 1 Axes>"
      ]
     },
     "metadata": {
      "needs_background": "light"
     },
     "output_type": "display_data"
    }
   ],
   "source": [
    "plot_data(x, y)"
   ]
  },
  {
   "cell_type": "code",
   "execution_count": 7,
   "id": "9fefb5ab",
   "metadata": {},
   "outputs": [],
   "source": [
    "def h(x, theta):\n",
    "    return np.matmul(x, theta)"
   ]
  },
  {
   "cell_type": "code",
   "execution_count": 8,
   "id": "9f33713e",
   "metadata": {},
   "outputs": [],
   "source": [
    "def cost(x, y, theta):\n",
    "    h_x = h(x, theta)\n",
    "    delta = h_x - y\n",
    "    return (delta.T @ delta ) / (1/2*y.shape[0])"
   ]
  },
  {
   "cell_type": "code",
   "execution_count": 9,
   "id": "fca77c65",
   "metadata": {},
   "outputs": [],
   "source": [
    "mean = []\n",
    "std = []"
   ]
  },
  {
   "cell_type": "code",
   "execution_count": 10,
   "id": "686e5ca4",
   "metadata": {},
   "outputs": [],
   "source": [
    "def normalize(x):\n",
    "    u_mean = np.mean(x)\n",
    "    u_std = np.std(x)\n",
    "    x -= u_mean\n",
    "    x /= u_std\n",
    "    mean.append(u_mean)\n",
    "    std.append(u_std)\n",
    "    return x"
   ]
  },
  {
   "cell_type": "code",
   "execution_count": 11,
   "id": "0efdb3a4",
   "metadata": {},
   "outputs": [],
   "source": [
    "x = normalize(x)\n",
    "y = normalize(y)"
   ]
  },
  {
   "cell_type": "code",
   "execution_count": 12,
   "id": "1acd4e9d",
   "metadata": {},
   "outputs": [
    {
     "data": {
      "image/png": "[encoded data removed]",
      "text/plain": [
       "<Figure size 432x288 with 1 Axes>"
      ]
     },
     "metadata": {
      "needs_background": "light"
     },
     "output_type": "display_data"
    }
   ],
   "source": [
    "plot_data(x, y)"
   ]
  },
  {
   "cell_type": "code",
   "execution_count": 13,
   "id": "a082bc47",
   "metadata": {},
   "outputs": [],
   "source": [
    "def train(x, y, theta, lr=0.01, epochs=100):\n",
    "    J_all = []\n",
    "    m = x.shape[0]\n",
    "    \n",
    "    for epoch in range(epochs):\n",
    "        if epoch % 10 == 0:\n",
    "            print('Epoch: ', str(epoch))\n",
    "        h_x = h(x, theta)\n",
    "        _cost = (1/m)*(x.T @ (h_x - y))\n",
    "        theta -= (lr)*_cost\n",
    "        J_all.append(cost(x, y, theta))\n",
    "    return theta, np.array(J_all)"
   ]
  },
  {
   "cell_type": "code",
   "execution_count": 14,
   "id": "976de6cd",
   "metadata": {},
   "outputs": [
    {
     "data": {
      "text/plain": [
       "(8,)"
      ]
     },
     "execution_count": 14,
     "metadata": {},
     "output_type": "execute_result"
    }
   ],
   "source": [
    "x.shape"
   ]
  },
  {
   "cell_type": "code",
   "execution_count": 15,
   "id": "f7680252",
   "metadata": {},
   "outputs": [],
   "source": [
    "x = x.reshape(-1, 1)\n",
    "y = y.reshape(-1, 1)"
   ]
  },
  {
   "cell_type": "code",
   "execution_count": 16,
   "id": "de4253c2",
   "metadata": {},
   "outputs": [],
   "source": [
    "theta = np.zeros((x.shape[1], 1))"
   ]
  },
  {
   "cell_type": "code",
   "execution_count": 17,
   "id": "57a37b04",
   "metadata": {},
   "outputs": [
    {
     "data": {
      "text/plain": [
       "array([[0.]])"
      ]
     },
     "execution_count": 17,
     "metadata": {},
     "output_type": "execute_result"
    }
   ],
   "source": [
    "theta"
   ]
  },
  {
   "cell_type": "code",
   "execution_count": 18,
   "id": "9e09c4e0",
   "metadata": {},
   "outputs": [
    {
     "data": {
      "text/plain": [
       "(1, 1)"
      ]
     },
     "execution_count": 18,
     "metadata": {},
     "output_type": "execute_result"
    }
   ],
   "source": [
    "theta.shape"
   ]
  },
  {
   "cell_type": "code",
   "execution_count": 19,
   "id": "80c55c57",
   "metadata": {},
   "outputs": [],
   "source": [
    "lr = 0.01\n",
    "EPOCHS = 500"
   ]
  },
  {
   "cell_type": "code",
   "execution_count": 20,
   "id": "621237dc",
   "metadata": {},
   "outputs": [
    {
     "name": "stdout",
     "output_type": "stream",
     "text": [
      "Epoch:  0\n",
      "Epoch:  10\n",
      "Epoch:  20\n",
      "Epoch:  30\n",
      "Epoch:  40\n",
      "Epoch:  50\n",
      "Epoch:  60\n",
      "Epoch:  70\n",
      "Epoch:  80\n",
      "Epoch:  90\n",
      "Epoch:  100\n",
      "Epoch:  110\n",
      "Epoch:  120\n",
      "Epoch:  130\n",
      "Epoch:  140\n",
      "Epoch:  150\n",
      "Epoch:  160\n",
      "Epoch:  170\n",
      "Epoch:  180\n",
      "Epoch:  190\n",
      "Epoch:  200\n",
      "Epoch:  210\n",
      "Epoch:  220\n",
      "Epoch:  230\n",
      "Epoch:  240\n",
      "Epoch:  250\n",
      "Epoch:  260\n",
      "Epoch:  270\n",
      "Epoch:  280\n",
      "Epoch:  290\n",
      "Epoch:  300\n",
      "Epoch:  310\n",
      "Epoch:  320\n",
      "Epoch:  330\n",
      "Epoch:  340\n",
      "Epoch:  350\n",
      "Epoch:  360\n",
      "Epoch:  370\n",
      "Epoch:  380\n",
      "Epoch:  390\n",
      "Epoch:  400\n",
      "Epoch:  410\n",
      "Epoch:  420\n",
      "Epoch:  430\n",
      "Epoch:  440\n",
      "Epoch:  450\n",
      "Epoch:  460\n",
      "Epoch:  470\n",
      "Epoch:  480\n",
      "Epoch:  490\n"
     ]
    }
   ],
   "source": [
    "theta, J_all = train(x, y, theta, lr=lr, epochs=EPOCHS)"
   ]
  },
  {
   "cell_type": "code",
   "execution_count": 21,
   "id": "4f0dce00",
   "metadata": {},
   "outputs": [
    {
     "data": {
      "text/plain": [
       "array([[0.65678751]])"
      ]
     },
     "execution_count": 21,
     "metadata": {},
     "output_type": "execute_result"
    }
   ],
   "source": [
    "theta"
   ]
  },
  {
   "cell_type": "code",
   "execution_count": 22,
   "id": "2994a678",
   "metadata": {},
   "outputs": [],
   "source": [
    "def plot_lr_line(x, y, theta):\n",
    "    plt.scatter(x, y, s=10)\n",
    "    plt.xlabel('Hours spent driving')\n",
    "    plt.ylabel('Risk score')\n",
    "    plt.plot(x, x*theta, linewidth=2)"
   ]
  },
  {
   "cell_type": "code",
   "execution_count": 23,
   "id": "47f8ea97",
   "metadata": {},
   "outputs": [
    {
     "data": {
      "image/png": "[encoded data removed]",
      "text/plain": [
       "<Figure size 432x288 with 1 Axes>"
      ]
     },
     "metadata": {
      "needs_background": "light"
     },
     "output_type": "display_data"
    }
   ],
   "source": [
    "plot_lr_line(x, y, theta)"
   ]
  },
  {
   "cell_type": "code",
   "execution_count": 24,
   "id": "db1f151a",
   "metadata": {},
   "outputs": [
    {
     "data": {
      "text/plain": [
       "(1, 1)"
      ]
     },
     "execution_count": 24,
     "metadata": {},
     "output_type": "execute_result"
    }
   ],
   "source": [
    "J_all[2].shape"
   ]
  },
  {
   "cell_type": "code",
   "execution_count": 25,
   "id": "70c9ea8a",
   "metadata": {},
   "outputs": [
    {
     "data": {
      "text/plain": [
       "array([[[1.98260363]]])"
      ]
     },
     "execution_count": 25,
     "metadata": {},
     "output_type": "execute_result"
    }
   ],
   "source": [
    "J_all[:1]"
   ]
  },
  {
   "cell_type": "code",
   "execution_count": 26,
   "id": "a68060b2",
   "metadata": {},
   "outputs": [],
   "source": [
    "def plot_cost(epochs, jplot):\n",
    "    plt.xlabel('Epochs')\n",
    "    plt.ylabel('Cost')\n",
    "    plt.plot(epochs, jplot, 'm', linewidth=2)"
   ]
  },
  {
   "cell_type": "code",
   "execution_count": 27,
   "id": "1b724c21",
   "metadata": {},
   "outputs": [],
   "source": [
    "jplot = []\n",
    "epochs = [i + 1 for i in range(EPOCHS)]\n",
    "# print(J_all)\n",
    "\n",
    "for j in J_all:\n",
    "    jplot.append(j)\n",
    "\n",
    "jplot = np.array(jplot, dtype=float).reshape(-1, 1)\n",
    "epochs = np.array(epochs, dtype=float).reshape(-1, 1)"
   ]
  },
  {
   "cell_type": "code",
   "execution_count": 28,
   "id": "88f23dc7",
   "metadata": {},
   "outputs": [
    {
     "data": {
      "image/png": "[encoded data removed]",
      "text/plain": [
       "<Figure size 432x288 with 1 Axes>"
      ]
     },
     "metadata": {
      "needs_background": "light"
     },
     "output_type": "display_data"
    }
   ],
   "source": [
    "plot_cost(epochs, jplot)"
   ]
  },
  {
   "cell_type": "code",
   "execution_count": null,
   "id": "22c92bdd",
   "metadata": {},
   "outputs": [],
   "source": []
  }
 ],
 "metadata": {
  "kernelspec": {
   "display_name": "Python 3 (ipykernel)",
   "language": "python",
   "name": "python3"
  },
  "language_info": {
   "codemirror_mode": {
    "name": "ipython",
    "version": 3
   },
   "file_extension": ".py",
   "mimetype": "text/x-python",
   "name": "python",
   "nbconvert_exporter": "python",
   "pygments_lexer": "ipython3",
   "version": "3.9.10"
  }
 },
 "nbformat": 4,
 "nbformat_minor": 5
}
