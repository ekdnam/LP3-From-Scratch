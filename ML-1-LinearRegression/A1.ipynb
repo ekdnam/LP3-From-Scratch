{
 "cells": [
  {
   "cell_type": "code",
   "execution_count": 286,
   "id": "6c6fc6ce",
   "metadata": {},
   "outputs": [],
   "source": [
    "import pandas as pd\n",
    "import numpy as np\n",
    "import matplotlib.pyplot as plt\n",
    "\n",
    "from matplotlib import style\n",
    "style.use('ggplot')"
   ]
  },
  {
   "cell_type": "code",
   "execution_count": 477,
   "id": "d9162c87",
   "metadata": {},
   "outputs": [],
   "source": [
    "n_hours = np.array([10, 9, 2, 15, 10, 16, 11, 16], dtype=float)\n",
    "risk_score = np.array([95, 80, 10, 50, 45, 98, 38, 93], dtype=float)"
   ]
  },
  {
   "cell_type": "code",
   "execution_count": 478,
   "id": "521c0de9",
   "metadata": {},
   "outputs": [],
   "source": [
    "# n_hours = np.array([1, 2, 3, 4, 5, 6, 7, 8], dtype=float)\n",
    "# risk_score = np.array([2, 3, 4, 5, 6, 7, 8, 9], dtype=float)"
   ]
  },
  {
   "cell_type": "code",
   "execution_count": 479,
   "id": "0c0c252b",
   "metadata": {},
   "outputs": [
    {
     "data": {
      "text/plain": [
       "8"
      ]
     },
     "execution_count": 479,
     "metadata": {},
     "output_type": "execute_result"
    }
   ],
   "source": [
    "len(n_hours)"
   ]
  },
  {
   "cell_type": "code",
   "execution_count": 480,
   "id": "4c20cadc",
   "metadata": {},
   "outputs": [
    {
     "data": {
      "text/plain": [
       "8"
      ]
     },
     "execution_count": 480,
     "metadata": {},
     "output_type": "execute_result"
    }
   ],
   "source": [
    "len(risk_score)"
   ]
  },
  {
   "cell_type": "code",
   "execution_count": 481,
   "id": "d9119da3",
   "metadata": {},
   "outputs": [],
   "source": [
    "mu = []\n",
    "std = []"
   ]
  },
  {
   "cell_type": "code",
   "execution_count": 482,
   "id": "125e5864",
   "metadata": {},
   "outputs": [],
   "source": [
    "x = n_hours\n",
    "y = risk_score"
   ]
  },
  {
   "cell_type": "code",
   "execution_count": 483,
   "id": "1bb128d7",
   "metadata": {},
   "outputs": [],
   "source": [
    "def normalize(data):\n",
    "    u_mean = np.mean(data)\n",
    "    u_std = np.std(data, axis=0)\n",
    "    \n",
    "    mu.append(u_mean)\n",
    "    std.append(u_std)\n",
    "    \n",
    "    data -= u_mean\n",
    "    data /= u_std\n",
    "    \n",
    "    return data"
   ]
  },
  {
   "cell_type": "code",
   "execution_count": 484,
   "id": "f5d6d3c8",
   "metadata": {},
   "outputs": [
    {
     "data": {
      "text/plain": [
       "[]"
      ]
     },
     "execution_count": 484,
     "metadata": {},
     "output_type": "execute_result"
    },
    {
     "data": {
      "image/png": "[encoded data removed]",
      "text/plain": [
       "<Figure size 432x288 with 1 Axes>"
      ]
     },
     "metadata": {},
     "output_type": "display_data"
    }
   ],
   "source": [
    "plt.xlabel('Hours')\n",
    "plt.ylabel('Risk Score')\n",
    "plt.scatter(x, y)\n",
    "plt.plot()"
   ]
  },
  {
   "cell_type": "code",
   "execution_count": 485,
   "id": "727ec053",
   "metadata": {},
   "outputs": [],
   "source": [
    "x = normalize(x)"
   ]
  },
  {
   "cell_type": "code",
   "execution_count": 486,
   "id": "b1316edf",
   "metadata": {},
   "outputs": [],
   "source": [
    "y = normalize(y)"
   ]
  },
  {
   "cell_type": "code",
   "execution_count": 487,
   "id": "195a3391",
   "metadata": {},
   "outputs": [
    {
     "data": {
      "text/plain": [
       "array([-0.25735303, -0.48611127, -2.087419  ,  0.8864382 , -0.25735303,\n",
       "        1.11519645, -0.02859478,  1.11519645])"
      ]
     },
     "execution_count": 487,
     "metadata": {},
     "output_type": "execute_result"
    }
   ],
   "source": [
    "x"
   ]
  },
  {
   "cell_type": "code",
   "execution_count": 488,
   "id": "a89c0826",
   "metadata": {},
   "outputs": [
    {
     "data": {
      "text/plain": [
       "[]"
      ]
     },
     "execution_count": 488,
     "metadata": {},
     "output_type": "execute_result"
    },
    {
     "data": {
      "image/png": "[encoded data removed]",
      "text/plain": [
       "<Figure size 432x288 with 1 Axes>"
      ]
     },
     "metadata": {},
     "output_type": "display_data"
    }
   ],
   "source": [
    "plt.xlabel('Hours')\n",
    "plt.ylabel('Risk Score')\n",
    "plt.scatter(x, y)\n",
    "plt.plot()"
   ]
  },
  {
   "cell_type": "code",
   "execution_count": 489,
   "id": "52be6db0",
   "metadata": {},
   "outputs": [],
   "source": [
    "def h(x, theta):\n",
    "    return np.matmul(x, theta)"
   ]
  },
  {
   "cell_type": "code",
   "execution_count": 490,
   "id": "f74abc47",
   "metadata": {},
   "outputs": [],
   "source": [
    "def cost_function(x, y, theta):\n",
    "    return np.sqrt((h(x, theta)-y).T@(h(x, theta)-y)/(2*y.shape[0]))"
   ]
  },
  {
   "cell_type": "code",
   "execution_count": 491,
   "id": "c0eec73b",
   "metadata": {},
   "outputs": [],
   "source": [
    "def gradient_descent(x, y, theta, learning_rate=0.1, num_epochs=25):\n",
    "    m = x.shape[0]\n",
    "    J_all = []\n",
    "    for _ in range(num_epochs):\n",
    "        h_x = h(x, theta)\n",
    "        cost_ = (1/m)*(x.T@(h_x - y))\n",
    "        theta = theta - (learning_rate)*cost_\n",
    "        J_all.append(cost_function(x, y, theta))\n",
    "\n",
    "    return theta, J_all "
   ]
  },
  {
   "cell_type": "code",
   "execution_count": 492,
   "id": "7e3f8b54",
   "metadata": {},
   "outputs": [
    {
     "data": {
      "text/plain": [
       "(8, 1)"
      ]
     },
     "execution_count": 492,
     "metadata": {},
     "output_type": "execute_result"
    }
   ],
   "source": [
    "x = x.reshape(-1, 1)\n",
    "x.shape"
   ]
  },
  {
   "cell_type": "code",
   "execution_count": 493,
   "id": "0f130b02",
   "metadata": {},
   "outputs": [
    {
     "data": {
      "text/plain": [
       "(8, 1)"
      ]
     },
     "execution_count": 493,
     "metadata": {},
     "output_type": "execute_result"
    }
   ],
   "source": [
    "y = y.reshape(-1, 1)\n",
    "y.shape"
   ]
  },
  {
   "cell_type": "code",
   "execution_count": 494,
   "id": "26cfbfef",
   "metadata": {},
   "outputs": [],
   "source": [
    "x_final = x"
   ]
  },
  {
   "cell_type": "code",
   "execution_count": 495,
   "id": "d11ea4ba",
   "metadata": {},
   "outputs": [],
   "source": [
    "# x_final = np.hstack((np.ones((x.shape[0], 1)), x))"
   ]
  },
  {
   "cell_type": "code",
   "execution_count": 496,
   "id": "c243e12c",
   "metadata": {},
   "outputs": [],
   "source": [
    "theta = np.zeros((x_final.shape[1], 1))"
   ]
  },
  {
   "cell_type": "code",
   "execution_count": 497,
   "id": "51992faf",
   "metadata": {},
   "outputs": [
    {
     "name": "stdout",
     "output_type": "stream",
     "text": [
      "x_final.shape:  (8, 1)\n",
      "x.shape:  (8, 1)\n",
      "theta.shape:  (1, 1)\n",
      "y.shape:  (8, 1)\n"
     ]
    }
   ],
   "source": [
    "print('x_final.shape: ', x_final.shape)\n",
    "print('x.shape: ', x.shape)\n",
    "print('theta.shape: ', theta.shape)\n",
    "print('y.shape: ', y.shape)"
   ]
  },
  {
   "cell_type": "code",
   "execution_count": 498,
   "id": "8ee19204",
   "metadata": {},
   "outputs": [],
   "source": [
    "lr = 0.1\n",
    "epochs = 50\n",
    "\n",
    "theta, J_all = gradient_descent(x_final, y, theta)"
   ]
  },
  {
   "cell_type": "code",
   "execution_count": 499,
   "id": "cb12813a",
   "metadata": {},
   "outputs": [
    {
     "data": {
      "text/plain": [
       "(1, 1)"
      ]
     },
     "execution_count": 499,
     "metadata": {},
     "output_type": "execute_result"
    }
   ],
   "source": [
    "theta.shape"
   ]
  },
  {
   "cell_type": "code",
   "execution_count": 500,
   "id": "800773e9",
   "metadata": {},
   "outputs": [
    {
     "data": {
      "text/plain": [
       "(8, 1)"
      ]
     },
     "execution_count": 500,
     "metadata": {},
     "output_type": "execute_result"
    }
   ],
   "source": [
    "x.shape"
   ]
  },
  {
   "cell_type": "code",
   "execution_count": 501,
   "id": "0ca02858",
   "metadata": {},
   "outputs": [],
   "source": [
    "J = cost(x_final, y, theta)"
   ]
  },
  {
   "cell_type": "code",
   "execution_count": 502,
   "id": "e611a07f",
   "metadata": {},
   "outputs": [
    {
     "data": {
      "text/plain": [
       "array([[0.43392949]])"
      ]
     },
     "execution_count": 502,
     "metadata": {},
     "output_type": "execute_result"
    }
   ],
   "source": [
    "J"
   ]
  },
  {
   "cell_type": "code",
   "execution_count": 503,
   "id": "cdae7e45",
   "metadata": {},
   "outputs": [
    {
     "data": {
      "text/plain": [
       "array([[0.61366897]])"
      ]
     },
     "execution_count": 503,
     "metadata": {},
     "output_type": "execute_result"
    }
   ],
   "source": [
    "theta"
   ]
  },
  {
   "cell_type": "code",
   "execution_count": 504,
   "id": "68893333",
   "metadata": {},
   "outputs": [],
   "source": [
    "def plot_cost(J_all, num_epochs):\n",
    "    plt.xlabel('Epochs')\n",
    "    plt.ylabel('Cost')\n",
    "    plt.plot(num_epochs, J_all, 'm', linewidth = \"5\")\n",
    "    plt.show()"
   ]
  },
  {
   "cell_type": "code",
   "execution_count": 505,
   "id": "841720cb",
   "metadata": {},
   "outputs": [
    {
     "data": {
      "image/png": "[encoded data removed]",
      "text/plain": [
       "<Figure size 432x288 with 1 Axes>"
      ]
     },
     "metadata": {},
     "output_type": "display_data"
    }
   ],
   "source": [
    "n_epochs = []\n",
    "jplot = []\n",
    "count = 0\n",
    "for i in J_all:\n",
    "    jplot.append(i[0][0])\n",
    "    n_epochs.append(count)\n",
    "    count += 1\n",
    "jplot = np.array(jplot)\n",
    "n_epochs = np.array(n_epochs)\n",
    "plot_cost(jplot, n_epochs)"
   ]
  },
  {
   "cell_type": "code",
   "execution_count": 506,
   "id": "cb7ff41f",
   "metadata": {},
   "outputs": [
    {
     "data": {
      "text/plain": [
       "array([[0.61366897]])"
      ]
     },
     "execution_count": 506,
     "metadata": {},
     "output_type": "execute_result"
    }
   ],
   "source": [
    "theta"
   ]
  },
  {
   "cell_type": "code",
   "execution_count": 507,
   "id": "5e1ced4f",
   "metadata": {},
   "outputs": [],
   "source": [
    "y_hat = x*theta"
   ]
  },
  {
   "cell_type": "code",
   "execution_count": 508,
   "id": "ac585841",
   "metadata": {},
   "outputs": [
    {
     "data": {
      "text/plain": [
       "array([[-0.15792957],\n",
       "       [-0.2983114 ],\n",
       "       [-1.28098427],\n",
       "       [ 0.54397962],\n",
       "       [-0.15792957],\n",
       "       [ 0.68436146],\n",
       "       [-0.01754773],\n",
       "       [ 0.68436146]])"
      ]
     },
     "execution_count": 508,
     "metadata": {},
     "output_type": "execute_result"
    }
   ],
   "source": [
    "y_hat"
   ]
  },
  {
   "cell_type": "code",
   "execution_count": 509,
   "id": "3d5af1f3",
   "metadata": {},
   "outputs": [
    {
     "data": {
      "text/plain": [
       "[<matplotlib.lines.Line2D at 0x11a886b20>]"
      ]
     },
     "execution_count": 509,
     "metadata": {},
     "output_type": "execute_result"
    },
    {
     "data": {
      "image/png": "[encoded data removed]",
      "text/plain": [
       "<Figure size 432x288 with 1 Axes>"
      ]
     },
     "metadata": {},
     "output_type": "display_data"
    }
   ],
   "source": [
    "plt.xlabel('Hours')\n",
    "plt.ylabel('Risk Score')\n",
    "plt.scatter(x, y)\n",
    "plt.plot(x, y_hat)"
   ]
  },
  {
   "cell_type": "code",
   "execution_count": null,
   "id": "c9cc99a1",
   "metadata": {},
   "outputs": [],
   "source": []
  },
  {
   "cell_type": "code",
   "execution_count": null,
   "id": "ca07e184",
   "metadata": {},
   "outputs": [],
   "source": []
  }
 ],
 "metadata": {
  "kernelspec": {
   "display_name": "Python 3 (ipykernel)",
   "language": "python",
   "name": "python3"
  },
  "language_info": {
   "codemirror_mode": {
    "name": "ipython",
    "version": 3
   },
   "file_extension": ".py",
   "mimetype": "text/x-python",
   "name": "python",
   "nbconvert_exporter": "python",
   "pygments_lexer": "ipython3",
   "version": "3.9.10"
  }
 },
 "nbformat": 4,
 "nbformat_minor": 5
}
