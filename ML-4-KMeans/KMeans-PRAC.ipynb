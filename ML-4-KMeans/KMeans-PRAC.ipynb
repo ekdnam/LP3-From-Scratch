{
 "cells": [
  {
   "cell_type": "code",
   "execution_count": 1,
   "id": "2ab5a299",
   "metadata": {},
   "outputs": [],
   "source": [
    "import numpy as np\n",
    "import pandas as pd\n",
    "import matplotlib.pyplot as plt"
   ]
  },
  {
   "cell_type": "code",
   "execution_count": 2,
   "id": "5f42e483",
   "metadata": {},
   "outputs": [],
   "source": [
    "from matplotlib import style\n",
    "style.use('ggplot')"
   ]
  },
  {
   "cell_type": "code",
   "execution_count": 3,
   "id": "26ab60cc",
   "metadata": {},
   "outputs": [],
   "source": [
    "x = np.array([(1, 2), (2, 4), (3, 2.5), (9, 10), (11, 10.5), (10, 13)])"
   ]
  },
  {
   "cell_type": "code",
   "execution_count": 4,
   "id": "8c47e349",
   "metadata": {},
   "outputs": [
    {
     "data": {
      "text/plain": [
       "[]"
      ]
     },
     "execution_count": 4,
     "metadata": {},
     "output_type": "execute_result"
    },
    {
     "data": {
      "image/png": "[encoded data removed]",
      "text/plain": [
       "<Figure size 432x288 with 1 Axes>"
      ]
     },
     "metadata": {
      "needs_background": "light"
     },
     "output_type": "display_data"
    }
   ],
   "source": [
    "plt.scatter(x[:, 0], x[:, 1])\n",
    "plt.plot()"
   ]
  },
  {
   "cell_type": "code",
   "execution_count": 9,
   "id": "ead7396c",
   "metadata": {},
   "outputs": [],
   "source": [
    "class KMeans:\n",
    "    def __init__(self, k=3, tol=0.01, epochs=200):\n",
    "        self.k = k\n",
    "        self.tol = tol\n",
    "        self.epochs = epochs\n",
    "\n",
    "    def fit(self, x):\n",
    "        self.centroids = {}\n",
    "\n",
    "        for i in range(self.k):\n",
    "            self.centroids[i] = {}\n",
    "            self.centroids[i] = x[i]\n",
    "        \n",
    "        for i in range(self.epochs):\n",
    "            if i % 10 == 0:\n",
    "                print(f'Epoch: {i}')\n",
    "            self.classifications = {}\n",
    "            for j in range(self.k):\n",
    "                self.classifications[j] = []\n",
    "            for point in x:\n",
    "                distances = [np.linalg.norm(point - self.centroids[centroid]) for centroid in self.centroids]\n",
    "                _class = distances.index(min(distances))\n",
    "                self.classifications[_class].append(point)\n",
    "            prev_centroids = dict(self.centroids)\n",
    "            for _class in self.classifications:\n",
    "                self.centroids[_class] = np.average(self.classifications[_class], axis=0)\n",
    "   \n",
    "    def predict(self, point):\n",
    "        distances = [np.linalg.norm(point - self.centroids[centroid]) for centroid in self.centroids]\n",
    "        _class = distances.index(min(distances))\n",
    "        return _class\n",
    "    \n",
    "    def plotter(self):\n",
    "        i = 0\n",
    "        colors = ['red', 'blue', 'green']\n",
    "        for centroid in self.centroids:\n",
    "            plt.scatter(x=self.centroids[centroid][0], y=model.centroids[centroid][1], color=colors[i], s=30, marker='x')\n",
    "            i += 1\n",
    "#             print(self.centroids[centroid][0], self.centroids[centroid][0])\n",
    "        \n",
    "        i = 0\n",
    "        for _class in self.classifications:\n",
    "            color = colors[i]\n",
    "            i += 1\n",
    "            for point in self.classifications[_class]:\n",
    "                plt.scatter(point[0], point[1], color=color)\n",
    "        plt.plot()"
   ]
  },
  {
   "cell_type": "code",
   "execution_count": 10,
   "id": "754ac982",
   "metadata": {},
   "outputs": [
    {
     "name": "stdout",
     "output_type": "stream",
     "text": [
      "[[ 1.   2. ]\n",
      " [ 2.   4. ]\n",
      " [ 3.   2.5]\n",
      " [ 9.  10. ]\n",
      " [11.  10.5]\n",
      " [10.  13. ]]\n"
     ]
    }
   ],
   "source": [
    "print(x)"
   ]
  },
  {
   "cell_type": "code",
   "execution_count": 11,
   "id": "63600ad4",
   "metadata": {},
   "outputs": [],
   "source": [
    "model = KMeans(k=2)"
   ]
  },
  {
   "cell_type": "code",
   "execution_count": 12,
   "id": "8982871b",
   "metadata": {},
   "outputs": [
    {
     "name": "stdout",
     "output_type": "stream",
     "text": [
      "Epoch: 0\n",
      "Epoch: 10\n",
      "Epoch: 20\n",
      "Epoch: 30\n",
      "Epoch: 40\n",
      "Epoch: 50\n",
      "Epoch: 60\n",
      "Epoch: 70\n",
      "Epoch: 80\n",
      "Epoch: 90\n",
      "Epoch: 100\n",
      "Epoch: 110\n",
      "Epoch: 120\n",
      "Epoch: 130\n",
      "Epoch: 140\n",
      "Epoch: 150\n",
      "Epoch: 160\n",
      "Epoch: 170\n",
      "Epoch: 180\n",
      "Epoch: 190\n"
     ]
    }
   ],
   "source": [
    "model.fit(x)"
   ]
  },
  {
   "cell_type": "code",
   "execution_count": 13,
   "id": "dadbfa12",
   "metadata": {},
   "outputs": [
    {
     "data": {
      "image/png": "[encoded data removed]",
      "text/plain": [
       "<Figure size 432x288 with 1 Axes>"
      ]
     },
     "metadata": {
      "needs_background": "light"
     },
     "output_type": "display_data"
    }
   ],
   "source": [
    "model.plotter()"
   ]
  },
  {
   "cell_type": "code",
   "execution_count": null,
   "id": "bbce9bc9",
   "metadata": {},
   "outputs": [],
   "source": []
  },
  {
   "cell_type": "code",
   "execution_count": null,
   "id": "44b6e92f",
   "metadata": {},
   "outputs": [],
   "source": []
  }
 ],
 "metadata": {
  "kernelspec": {
   "display_name": "Python 3 (ipykernel)",
   "language": "python",
   "name": "python3"
  },
  "language_info": {
   "codemirror_mode": {
    "name": "ipython",
    "version": 3
   },
   "file_extension": ".py",
   "mimetype": "text/x-python",
   "name": "python",
   "nbconvert_exporter": "python",
   "pygments_lexer": "ipython3",
   "version": "3.9.10"
  }
 },
 "nbformat": 4,
 "nbformat_minor": 5
}
