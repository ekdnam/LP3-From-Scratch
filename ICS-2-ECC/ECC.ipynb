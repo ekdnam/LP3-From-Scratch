{
 "cells": [
  {
   "cell_type": "code",
   "execution_count": 1,
   "id": "0bc9565b",
   "metadata": {},
   "outputs": [],
   "source": [
    "P = 101"
   ]
  },
  {
   "cell_type": "code",
   "execution_count": 5,
   "id": "9993a2e3",
   "metadata": {},
   "outputs": [],
   "source": [
    "class Point:\n",
    "    def __init__(self, x, y):\n",
    "        self.x = round(x, 2)\n",
    "        self.y = round(y, 2)\n",
    "    def __eq__(self, b):\n",
    "        return self.x == b.x and self.y == b.y\n",
    "    def __str__(self):\n",
    "        return f'{self.x}, {self.y}'\n",
    "    def __repr__(self):\n",
    "        return f'{self.x}, {self.y}'"
   ]
  },
  {
   "cell_type": "code",
   "execution_count": 6,
   "id": "bbf3d244",
   "metadata": {},
   "outputs": [],
   "source": [
    "point = Point(1, 2)"
   ]
  },
  {
   "cell_type": "code",
   "execution_count": 7,
   "id": "af03f9e5",
   "metadata": {},
   "outputs": [
    {
     "data": {
      "text/plain": [
       "1, 2"
      ]
     },
     "execution_count": 7,
     "metadata": {},
     "output_type": "execute_result"
    }
   ],
   "source": [
    "point"
   ]
  },
  {
   "cell_type": "code",
   "execution_count": 33,
   "id": "90d5609b",
   "metadata": {},
   "outputs": [],
   "source": [
    "class EllipticCurve:\n",
    "    def __init__(self, a, b):\n",
    "        self.a = a\n",
    "        self.b = b\n",
    "\n",
    "    def add(self, p1, p2, m = P):\n",
    "        l = 0\n",
    "        if p1 == p2:\n",
    "            num = 3 * p1.x * p1.x + self.a #3.(x1^2) + a\n",
    "            den = 2 * p1.y # 2y1\n",
    "        else:\n",
    "            num = p2.y - p1.y # y2 - y1\n",
    "            den = p2.x - p1.x # x2 - x1\n",
    "        l = num/den\n",
    "        x3 = l*l - p1.x - p2.x # l^2 - x1 - x2\n",
    "        y3 = l*(p1.x - x3) - p1.y # l(x1 - x3) - y1\n",
    "        return Point(x3, y3)\n",
    "\n",
    "    def mul(self, k, p):\n",
    "        temp = p\n",
    "        while k != 1:\n",
    "            temp = self.add(temp, p)\n",
    "            k -= 1 \n",
    "        return temp\n",
    "\n",
    "    def sub(self, p1, p2):\n",
    "        np = Point(p2.x, -p2.y)\n",
    "        return self.add(p1, np)"
   ]
  },
  {
   "cell_type": "code",
   "execution_count": 34,
   "id": "8867513c",
   "metadata": {},
   "outputs": [],
   "source": [
    "curve = EllipticCurve(2, 4) # Points lying on this curve:{0, 2}, {0, 5}, {1, 0}, {2, 3}, {2, 4}, {3, 3}, {3, 4}, {6, 1}, {6, 6}\n",
    "generator_point = Point(0, 2)"
   ]
  },
  {
   "cell_type": "code",
   "execution_count": 40,
   "id": "9ce85191",
   "metadata": {},
   "outputs": [],
   "source": [
    "def encrypt(p, U):\n",
    "    k = 5\n",
    "    c = [\n",
    "       curve.mul(k, G), #kG\n",
    "       curve.add(p, curve.mul(k, U)) # p + kU\n",
    "    ]\n",
    "    return c"
   ]
  },
  {
   "cell_type": "code",
   "execution_count": 41,
   "id": "15c43127",
   "metadata": {},
   "outputs": [],
   "source": [
    "def decrypt(C, R):\n",
    "    p = curve.sub(C[1], curve.mul(R, C[0])) #p + kU - RkG\n",
    "    return p"
   ]
  },
  {
   "cell_type": "code",
   "execution_count": 42,
   "id": "fbb8f050",
   "metadata": {},
   "outputs": [],
   "source": [
    "R = 5 # Private key\n",
    "U = curve.mul(R, G) # Public key"
   ]
  },
  {
   "cell_type": "code",
   "execution_count": 43,
   "id": "f9c7de93",
   "metadata": {},
   "outputs": [],
   "source": [
    "plaintext = Point(6, 1)"
   ]
  },
  {
   "cell_type": "code",
   "execution_count": 44,
   "id": "2842c188",
   "metadata": {},
   "outputs": [],
   "source": [
    "ciphertext = encrypt(plaintext, U)\n",
    "p = decrypt(ciphertext, R)"
   ]
  },
  {
   "cell_type": "code",
   "execution_count": 45,
   "id": "1d12d6de",
   "metadata": {},
   "outputs": [
    {
     "data": {
      "text/plain": [
       "6.0, 1.0"
      ]
     },
     "execution_count": 45,
     "metadata": {},
     "output_type": "execute_result"
    }
   ],
   "source": [
    "p"
   ]
  },
  {
   "cell_type": "code",
   "execution_count": null,
   "id": "f489818e",
   "metadata": {},
   "outputs": [],
   "source": []
  }
 ],
 "metadata": {
  "kernelspec": {
   "display_name": "Python 3 (ipykernel)",
   "language": "python",
   "name": "python3"
  },
  "language_info": {
   "codemirror_mode": {
    "name": "ipython",
    "version": 3
   },
   "file_extension": ".py",
   "mimetype": "text/x-python",
   "name": "python",
   "nbconvert_exporter": "python",
   "pygments_lexer": "ipython3",
   "version": "3.9.10"
  }
 },
 "nbformat": 4,
 "nbformat_minor": 5
}
