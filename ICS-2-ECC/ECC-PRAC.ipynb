{
 "cells": [
  {
   "cell_type": "code",
   "execution_count": 1,
   "id": "a683c05e",
   "metadata": {},
   "outputs": [],
   "source": [
    "P = 101"
   ]
  },
  {
   "cell_type": "code",
   "execution_count": 2,
   "id": "0efc1adc",
   "metadata": {},
   "outputs": [],
   "source": [
    "class Point:\n",
    "    def __init__(self, x, y):\n",
    "        self.x = x\n",
    "        self.y = y\n",
    "    def __eq__(self, b):\n",
    "        return self.x == b.x and self.y == b.y\n",
    "    def __str__(self):\n",
    "        return f'Point({self.x}, {self.y})'\n",
    "    def __repr__(self):\n",
    "        return f'Point({self.x}, {self.y})'"
   ]
  },
  {
   "cell_type": "code",
   "execution_count": null,
   "id": "448615f1",
   "metadata": {},
   "outputs": [],
   "source": [
    "class EllipticCurve:\n",
    "    def __init__(self, a, b):\n",
    "        self.a = a\n",
    "        self.b = b\n",
    "    \n",
    "    def add(self, p1, p2):\n",
    "        x1, y1 = p1.x, p1.y\n",
    "        x2, y2 = p2.x, p2.y\n",
    "        my_lambda = 0\n",
    "        numerator = 0\n",
    "        denominator = 0\n",
    "        if p1 == p2:\n",
    "            numerator = (3*(x1*(x1) + self.a\n",
    "            denominator = 2*y1\n",
    "        else:\n",
    "            numerator = y1 - y2\n",
    "            denominator = x1 - x2\n",
    "        my_lambda = numerator/denominator\n",
    "        x3 = my_lambda**2 - x1 - x2\n",
    "        y3 = my_lambda*(x1 - x3) - y1\n",
    "        return Point(x3, y3)\n",
    "\n",
    "    def mul(self, k, p):\n",
    "        temp = p\n",
    "        while k != 1:\n",
    "                temp = self.add(k, temp)\n",
    "                k -= 1\n",
    "        return temp\n",
    "    \n",
    "    "
   ]
  }
 ],
 "metadata": {
  "kernelspec": {
   "display_name": "Python 3 (ipykernel)",
   "language": "python",
   "name": "python3"
  },
  "language_info": {
   "codemirror_mode": {
    "name": "ipython",
    "version": 3
   },
   "file_extension": ".py",
   "mimetype": "text/x-python",
   "name": "python",
   "nbconvert_exporter": "python",
   "pygments_lexer": "ipython3",
   "version": "3.9.10"
  }
 },
 "nbformat": 4,
 "nbformat_minor": 5
}
