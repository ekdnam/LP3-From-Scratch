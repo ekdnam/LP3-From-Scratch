{
 "cells": [
  {
   "cell_type": "code",
   "execution_count": 1,
   "id": "bb0c9113",
   "metadata": {},
   "outputs": [],
   "source": [
    "s0 = [\n",
    "    [1, 0, 3, 2],\n",
    "    [3, 2, 1, 0],\n",
    "    [0, 2, 1, 3],\n",
    "    [3, 1, 3, 2]\n",
    "]\n",
    "s1 = [\n",
    "    [0, 1, 2, 3],\n",
    "    [2, 0, 1, 3],\n",
    "    [3, 0, 1, 0],\n",
    "    [2, 1, 0, 3]\n",
    "]"
   ]
  },
  {
   "cell_type": "code",
   "execution_count": 5,
   "id": "7a7e6174",
   "metadata": {},
   "outputs": [],
   "source": [
    "ip =  [] # odd -> <-even\n",
    "ep =  [] #4, 3, 2, 1 \n",
    "p10 =  [] #\n",
    "p8 =  []\n",
    "ip_inv = [1]*8"
   ]
  },
  {
   "cell_type": "code",
   "execution_count": 6,
   "id": "8a956582",
   "metadata": {},
   "outputs": [],
   "source": [
    "ip =  [1, 8, 3, 6, 5, 4, 7, 2]\n",
    "ep =  [4, 3, 2, 1, 4, 3, 2, 1]\n",
    "p10 =  [10, 9, 8, 7, 6, 5, 4, 3, 2, 1]\n",
    "p8 =  [1, 2, 3, 5, 7, 9, 4, 6] # primes + 9, 4, 6 "
   ]
  },
  {
   "cell_type": "code",
   "execution_count": 7,
   "id": "57fb277a",
   "metadata": {},
   "outputs": [
    {
     "data": {
      "text/plain": [
       "[1, 2, 3, 5, 7, 9, 4, 6]"
      ]
     },
     "execution_count": 7,
     "metadata": {},
     "output_type": "execute_result"
    }
   ],
   "source": [
    "p8"
   ]
  },
  {
   "cell_type": "code",
   "execution_count": 8,
   "id": "a2c21245",
   "metadata": {},
   "outputs": [
    {
     "data": {
      "text/plain": [
       "[1, 8, 3, 6, 5, 4, 7, 2]"
      ]
     },
     "execution_count": 8,
     "metadata": {},
     "output_type": "execute_result"
    }
   ],
   "source": [
    "for i in range(len(ip)):\n",
    "    ip_inv[ip[i]-1] = i+1\n",
    "ip_inv"
   ]
  },
  {
   "cell_type": "code",
   "execution_count": 31,
   "id": "814599f9",
   "metadata": {},
   "outputs": [],
   "source": [
    "def permute(message, perm):\n",
    "    ret = ''\n",
    "    for k in perm:\n",
    "        ret += str(message[k - 1])\n",
    "    return ret"
   ]
  },
  {
   "cell_type": "code",
   "execution_count": 12,
   "id": "15655303",
   "metadata": {},
   "outputs": [],
   "source": [
    "def split(text):\n",
    "    mid = len(text)//2\n",
    "    return text[:mid], text[mid:]"
   ]
  },
  {
   "cell_type": "code",
   "execution_count": 24,
   "id": "69d11197",
   "metadata": {},
   "outputs": [],
   "source": [
    "def lcs(message, shifts):\n",
    "    shifts = shifts % len(message)\n",
    "    return message[shifts:] + message[:shifts]"
   ]
  },
  {
   "cell_type": "code",
   "execution_count": 9,
   "id": "f923b64b",
   "metadata": {},
   "outputs": [],
   "source": [
    "def encrypt(m, key):\n",
    "    k1, k2 = generate_subkeys(key)\n",
    "    \n",
    "    m = permute(m, ip)\n",
    "    \n",
    "    m_left, m_right = split(m)\n",
    "    \n",
    "    m_left, m_right = fk(m_left, m_right, k1)\n",
    "    \n",
    "    m_left, m_right = m_right, m_left\n",
    "    \n",
    "    m_left, m_right = fk(m_left, m_right, k2)\n",
    "    \n",
    "    ciphertext = permute(m_left+m_right, ip_inv)\n",
    "    \n",
    "    return ciphertext"
   ]
  },
  {
   "cell_type": "code",
   "execution_count": 10,
   "id": "79ac042e",
   "metadata": {},
   "outputs": [],
   "source": [
    "def decrypt(m, key):\n",
    "    k1, k2 = generate_subkeys(key)\n",
    "    \n",
    "    m = permute(m, ip)\n",
    "    \n",
    "    m_left, m_right = split(m)\n",
    "    \n",
    "    m_left, m_right = fk(m_left, m_right, k2)\n",
    "    \n",
    "    m_left, m_right = m_right, m_left\n",
    "    \n",
    "    m_left, m_right = fk(m_left, m_right, k1)\n",
    "    \n",
    "    plaintext = permute(m_left+m_right, ip_inv)\n",
    "    \n",
    "    return plaintext"
   ]
  },
  {
   "cell_type": "code",
   "execution_count": 29,
   "id": "cfb23cb3",
   "metadata": {},
   "outputs": [],
   "source": [
    "def generate_subkeys(key):\n",
    "    key = permute(key, p10)\n",
    "    \n",
    "    key_left, key_right = split(key)\n",
    "    \n",
    "    key_left = lcs(key_left, 1)\n",
    "    key_right = lcs(key_right, 1)\n",
    "    print(key_left+key_right, len(key_left+key_right))\n",
    "    k1 = permute(key_left+key_right, p8)\n",
    "    \n",
    "    key_left = lcs(key_left, 2)\n",
    "    key_right = lcs(key_right, 2)\n",
    "    \n",
    "    k2 = permute(key_left+key_right, p8)\n",
    "    \n",
    "    return k1, k2"
   ]
  },
  {
   "cell_type": "code",
   "execution_count": 15,
   "id": "ce98288a",
   "metadata": {},
   "outputs": [],
   "source": [
    "def fk(left, right, subkey):\n",
    "    text = permute(right, ep)\n",
    "    \n",
    "    text = xor(text, subkey)\n",
    "    \n",
    "    text_left, text_right = split(text)\n",
    "\n",
    "    text = from_sbox(text_left, s0) + from_sbox(text_right, s1)\n",
    "    \n",
    "    text = xor(text, left)\n",
    "    \n",
    "    return text, right"
   ]
  },
  {
   "cell_type": "code",
   "execution_count": 16,
   "id": "8b7b6803",
   "metadata": {},
   "outputs": [],
   "source": [
    "def xor(a, b):\n",
    "    ret = []\n",
    "    for i in range(len(a)):\n",
    "        if a[i] == b[i]:\n",
    "            ret.append('0')\n",
    "        else:\n",
    "            ret.append('1')\n",
    "    return ''.join(ret)"
   ]
  },
  {
   "cell_type": "code",
   "execution_count": 17,
   "id": "8955de39",
   "metadata": {},
   "outputs": [],
   "source": [
    "def from_sbox(text, sbox):\n",
    "    r = text[0] + text[3]\n",
    "    c = text[1] + text[2]\n",
    "    \n",
    "    r = bin_to_dec(r)\n",
    "    c = bin_to_dec(c)\n",
    "    \n",
    "    out = sbox[r][c]\n",
    "    \n",
    "    out = dec_to_bin(out)\n",
    "    \n",
    "    while len(out) < 2:\n",
    "        out = '0' + out\n",
    "    return out"
   ]
  },
  {
   "cell_type": "code",
   "execution_count": 18,
   "id": "463a83eb",
   "metadata": {},
   "outputs": [],
   "source": [
    "def bin_to_dec(x):\n",
    "    return int(x, 2)\n",
    "def dec_to_bin(x):\n",
    "    return bin(x).replace('0b', '')"
   ]
  },
  {
   "cell_type": "code",
   "execution_count": 19,
   "id": "c09cb716",
   "metadata": {},
   "outputs": [],
   "source": [
    "key = \"1010001011\"\n",
    "plaintext = \"10001010\""
   ]
  },
  {
   "cell_type": "code",
   "execution_count": 32,
   "id": "54a285d2",
   "metadata": {},
   "outputs": [
    {
     "name": "stdout",
     "output_type": "stream",
     "text": [
      "0100000111 10\n"
     ]
    }
   ],
   "source": [
    "c = encrypt(plaintext, key)"
   ]
  },
  {
   "cell_type": "code",
   "execution_count": 33,
   "id": "00c1b993",
   "metadata": {},
   "outputs": [
    {
     "name": "stdout",
     "output_type": "stream",
     "text": [
      "0100000111 10\n"
     ]
    }
   ],
   "source": [
    "d = decrypt(c, key)"
   ]
  },
  {
   "cell_type": "code",
   "execution_count": 34,
   "id": "7f9e4ef3",
   "metadata": {},
   "outputs": [
    {
     "data": {
      "text/plain": [
       "'11111101'"
      ]
     },
     "execution_count": 34,
     "metadata": {},
     "output_type": "execute_result"
    }
   ],
   "source": [
    "c"
   ]
  },
  {
   "cell_type": "code",
   "execution_count": 35,
   "id": "3a34c77e",
   "metadata": {},
   "outputs": [
    {
     "data": {
      "text/plain": [
       "'10010011'"
      ]
     },
     "execution_count": 35,
     "metadata": {},
     "output_type": "execute_result"
    }
   ],
   "source": [
    "d"
   ]
  },
  {
   "cell_type": "code",
   "execution_count": 36,
   "id": "d5b34516",
   "metadata": {},
   "outputs": [
    {
     "data": {
      "text/plain": [
       "'10010011'"
      ]
     },
     "execution_count": 36,
     "metadata": {},
     "output_type": "execute_result"
    }
   ],
   "source": [
    "plaintext"
   ]
  },
  {
   "cell_type": "code",
   "execution_count": 37,
   "id": "09a3c284",
   "metadata": {},
   "outputs": [],
   "source": [
    "assert(d==plaintext)"
   ]
  },
  {
   "cell_type": "code",
   "execution_count": null,
   "id": "dd05abd3",
   "metadata": {},
   "outputs": [],
   "source": []
  }
 ],
 "metadata": {
  "kernelspec": {
   "display_name": "Python 3 (ipykernel)",
   "language": "python",
   "name": "python3"
  },
  "language_info": {
   "codemirror_mode": {
    "name": "ipython",
    "version": 3
   },
   "file_extension": ".py",
   "mimetype": "text/x-python",
   "name": "python",
   "nbconvert_exporter": "python",
   "pygments_lexer": "ipython3",
   "version": "3.9.10"
  }
 },
 "nbformat": 4,
 "nbformat_minor": 5
}
