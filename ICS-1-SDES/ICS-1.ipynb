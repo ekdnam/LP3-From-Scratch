{
 "cells": [
  {
   "cell_type": "code",
   "execution_count": 1,
   "id": "fbdeac82",
   "metadata": {},
   "outputs": [],
   "source": [
    "import random"
   ]
  },
  {
   "cell_type": "code",
   "execution_count": 2,
   "id": "f4067191",
   "metadata": {},
   "outputs": [],
   "source": [
    "random.seed(42)"
   ]
  },
  {
   "cell_type": "code",
   "execution_count": 3,
   "id": "442e9e67",
   "metadata": {},
   "outputs": [],
   "source": [
    "p10 = []\n",
    "p8 = []\n",
    "ep = []\n",
    "ip = []\n",
    "ip_inv = [1]*8"
   ]
  },
  {
   "cell_type": "code",
   "execution_count": 4,
   "id": "637a1f3f",
   "metadata": {},
   "outputs": [],
   "source": [
    "ip=  [1, 8, 3, 6, 5, 4, 7, 2]\n",
    "ip_inv=  [7, 8, 5, 1, 2, 6, 3, 4]\n",
    "ep=  [4, 3, 2, 1, 4, 3, 2, 1]\n",
    "p10=  [4, 6, 8, 5, 9, 7, 5, 3, 2, 1]\n",
    "p8=  [1, 2, 3, 5, 7, 9, 4, 6]"
   ]
  },
  {
   "cell_type": "code",
   "execution_count": 5,
   "id": "be276b51",
   "metadata": {},
   "outputs": [
    {
     "data": {
      "text/plain": [
       "[1, 8, 3, 6, 5, 4, 7, 2]"
      ]
     },
     "execution_count": 5,
     "metadata": {},
     "output_type": "execute_result"
    }
   ],
   "source": [
    "for i in range(len(ip)):\n",
    "    ip_inv[ip[i]-1]=i+1\n",
    "ip_inv"
   ]
  },
  {
   "cell_type": "code",
   "execution_count": 6,
   "id": "5e46681f",
   "metadata": {},
   "outputs": [],
   "source": [
    "# def generate_random_permutation(n):\n",
    "#     out = [i+1 for i in range(n)]\n",
    "#     random.shuffle(out)\n",
    "#     return out"
   ]
  },
  {
   "cell_type": "code",
   "execution_count": 7,
   "id": "c1be440e",
   "metadata": {},
   "outputs": [],
   "source": [
    "# ip = generate_random_permutation(8)\n",
    "# ip_inv = [1]*8\n",
    "# for i in range(len(ip)):\n",
    "#     ip_inv[ip[i]-1] = i+1"
   ]
  },
  {
   "cell_type": "code",
   "execution_count": 8,
   "id": "2920be2b",
   "metadata": {},
   "outputs": [],
   "source": [
    "# print('IP: ', ip)\n",
    "# print('IP_INV: ', ip_inv)"
   ]
  },
  {
   "cell_type": "code",
   "execution_count": 9,
   "id": "5d968903",
   "metadata": {},
   "outputs": [],
   "source": [
    "# p10 = generate_random_permutation(10)\n",
    "# print('P10: ', p10)"
   ]
  },
  {
   "cell_type": "code",
   "execution_count": 10,
   "id": "ea88761c",
   "metadata": {},
   "outputs": [],
   "source": [
    "# ep = generate_random_permutation(4)*2\n",
    "# print(ep)"
   ]
  },
  {
   "cell_type": "code",
   "execution_count": 11,
   "id": "c0ba9766",
   "metadata": {},
   "outputs": [],
   "source": [
    "# p8 = random.sample(generate_random_permutation(10), 8)\n",
    "# print('P8: ', p8)"
   ]
  },
  {
   "cell_type": "code",
   "execution_count": 12,
   "id": "c80ea8c2",
   "metadata": {},
   "outputs": [],
   "source": [
    "def bin_to_dec(x):\n",
    "    return int(x, 2)\n",
    "def dec_to_bin(x):\n",
    "    return bin(x).replace('0b', '')"
   ]
  },
  {
   "cell_type": "code",
   "execution_count": 13,
   "id": "3dee4606",
   "metadata": {},
   "outputs": [],
   "source": [
    "def left_circular_shift(x, shifts=1):\n",
    "    shifts = shifts % len(x)\n",
    "    return x[shifts:] + x[:shifts]"
   ]
  },
  {
   "cell_type": "code",
   "execution_count": 14,
   "id": "28eb1258",
   "metadata": {},
   "outputs": [],
   "source": [
    "def permutate(key, perm):\n",
    "    ret = []\n",
    "    for k in perm:\n",
    "        ret.append(str(key[k-1]))\n",
    "    return ''.join(ret)"
   ]
  },
  {
   "cell_type": "code",
   "execution_count": 15,
   "id": "50a0b7fb",
   "metadata": {},
   "outputs": [],
   "source": [
    "def split_str(key):\n",
    "    mid = len(key)//2\n",
    "    return key[:mid], key[mid:]"
   ]
  },
  {
   "cell_type": "code",
   "execution_count": 16,
   "id": "8aeebe9b",
   "metadata": {},
   "outputs": [],
   "source": [
    "def xor(a, b):\n",
    "    ret = []\n",
    "    for i in range(len(a)):\n",
    "        if a[i] == b[i]: ret.append('0')\n",
    "        else: ret.append('1')\n",
    "    return ''.join(ret)"
   ]
  },
  {
   "cell_type": "code",
   "execution_count": 17,
   "id": "0dcbc0df",
   "metadata": {},
   "outputs": [],
   "source": [
    "def generate_subkeys(key):\n",
    "    new_key = permutate(key,p10)\n",
    "    \n",
    "    left_key, right_key = split_str(new_key)\n",
    "    \n",
    "    # generate k1\n",
    "    left_key = left_circular_shift(left_key, 1)\n",
    "    right_key = left_circular_shift(right_key, 1)\n",
    "    \n",
    "    k1 = permutate(left_key+right_key, p8)\n",
    "    \n",
    "    # generate k2\n",
    "    left_key = left_circular_shift(left_key, 2)\n",
    "    right_key = left_circular_shift(right_key, 2)\n",
    "    \n",
    "    k2 = permutate(left_key+right_key, p8)\n",
    "    \n",
    "    return k1, k2"
   ]
  },
  {
   "cell_type": "code",
   "execution_count": 18,
   "id": "0fc1b4fe",
   "metadata": {},
   "outputs": [
    {
     "name": "stdout",
     "output_type": "stream",
     "text": [
      "00001110\n",
      "01001000\n"
     ]
    }
   ],
   "source": [
    "key = \"1010001011\"\n",
    "k1, k2 = generate_subkeys(key)\n",
    "print(k1)\n",
    "print(k2)"
   ]
  },
  {
   "cell_type": "code",
   "execution_count": 19,
   "id": "80152bc8",
   "metadata": {},
   "outputs": [],
   "source": [
    "s0 = [\n",
    "    [1, 0, 3, 2],\n",
    "    [3, 2, 1, 0],\n",
    "    [0, 2, 1, 3],\n",
    "    [3, 1, 3, 2]\n",
    "]\n",
    "s1 = [\n",
    "    [0, 1, 2, 3],\n",
    "    [2, 0, 1, 3],\n",
    "    [3, 0, 1, 0],\n",
    "    [2, 1, 0, 3]\n",
    "]"
   ]
  },
  {
   "cell_type": "code",
   "execution_count": 20,
   "id": "0c7330d9",
   "metadata": {},
   "outputs": [],
   "source": [
    "def s_box(text, sbox):\n",
    "    r = text[0] + text[3]\n",
    "    c = text[1] + text[2]\n",
    "    \n",
    "    r = bin_to_dec(r)\n",
    "    c = bin_to_dec(c)\n",
    "    \n",
    "    out = sbox[r][c]\n",
    "\n",
    "    out = dec_to_bin(out)\n",
    "\n",
    "    while len(out) < 2:\n",
    "        out = '0' + out\n",
    "    return out"
   ]
  },
  {
   "cell_type": "code",
   "execution_count": 61,
   "id": "dec99e25",
   "metadata": {},
   "outputs": [],
   "source": [
    "def function(left, right, subkey):\n",
    "    text = right\n",
    "    text = permutate(text, ep)\n",
    "    text = xor(text, subkey)\n",
    "    text_left, text_right = split_str(text)\n",
    "    text = s_box(text_left, s0) + s_box(text_right, s1)\n",
    "    text = xor(text, left)\n",
    "    return text, right"
   ]
  },
  {
   "cell_type": "code",
   "execution_count": 53,
   "id": "df15d00c",
   "metadata": {},
   "outputs": [],
   "source": [
    "def function2(left, right, subkey):\n",
    "    text = right\n",
    "    text = permutate(text, ep)\n",
    "    text = xor(text, subkey)\n",
    "    text_left, text_right = split_str(text)\n",
    "    text = s_box(texleft, s0) + s_box(right, s1)\n",
    "    text = xor(text, left)\n",
    "    return text, right"
   ]
  },
  {
   "cell_type": "code",
   "execution_count": 54,
   "id": "35eea7fe",
   "metadata": {},
   "outputs": [],
   "source": [
    "def encryption(plaintext, key):\n",
    "    k1, k2 = generate_subkeys(key)\n",
    "    \n",
    "    ciphertext = permutate(plaintext, ip)\n",
    "    print('permutated ciphertext: ', ciphertext)\n",
    "    left, right = split_str(ciphertext)\n",
    "    left, right = function(left, right, k1)\n",
    "    print('left, right: ', left, right)\n",
    "    left, right = right, left\n",
    "    \n",
    "    left, right = function(left, right, k2)\n",
    "    print('left, right: ', left, right)\n",
    "    ciphertext = permutate(left+right, ip_inv)\n",
    "    \n",
    "    return ciphertext"
   ]
  },
  {
   "cell_type": "code",
   "execution_count": 55,
   "id": "acc32f6e",
   "metadata": {},
   "outputs": [],
   "source": [
    "def decryption(ciphertext, key):\n",
    "    k1, k2 = generate_subkeys(key)\n",
    "    \n",
    "    plaintext = permutate(ciphertext, ip)\n",
    "    \n",
    "    left, right = split_str(plaintext)\n",
    "    left, right = function(left, right, k2)\n",
    "    \n",
    "    left, right = right, left\n",
    "    \n",
    "    left, right = function(left, right, k1)\n",
    "    \n",
    "    plaintext = permutate(left+right, ip_inv)\n",
    "    \n",
    "    return plaintext"
   ]
  },
  {
   "cell_type": "code",
   "execution_count": 56,
   "id": "c43c2370",
   "metadata": {},
   "outputs": [],
   "source": [
    "key = \"1010001011\"\n",
    "plaintext = \"10001010\""
   ]
  },
  {
   "cell_type": "code",
   "execution_count": 62,
   "id": "2b184632",
   "metadata": {},
   "outputs": [
    {
     "name": "stdout",
     "output_type": "stream",
     "text": [
      "permutated ciphertext:  10001010\n",
      "left, right:  1101 1010\n",
      "left, right:  0010 1101\n"
     ]
    }
   ],
   "source": [
    "c = encryption(plaintext, key)"
   ]
  },
  {
   "cell_type": "code",
   "execution_count": 63,
   "id": "1daefc2f",
   "metadata": {},
   "outputs": [],
   "source": [
    "p = decryption(c, key)"
   ]
  },
  {
   "cell_type": "code",
   "execution_count": 64,
   "id": "f405536a",
   "metadata": {},
   "outputs": [
    {
     "data": {
      "text/plain": [
       "'10001010'"
      ]
     },
     "execution_count": 64,
     "metadata": {},
     "output_type": "execute_result"
    }
   ],
   "source": [
    "plaintext"
   ]
  },
  {
   "cell_type": "code",
   "execution_count": 65,
   "id": "71a2601a",
   "metadata": {},
   "outputs": [
    {
     "data": {
      "text/plain": [
       "'10001010'"
      ]
     },
     "execution_count": 65,
     "metadata": {},
     "output_type": "execute_result"
    }
   ],
   "source": [
    "p"
   ]
  },
  {
   "cell_type": "code",
   "execution_count": null,
   "id": "aa1f4de4",
   "metadata": {},
   "outputs": [],
   "source": []
  },
  {
   "cell_type": "code",
   "execution_count": null,
   "id": "ee0ae452",
   "metadata": {},
   "outputs": [],
   "source": []
  }
 ],
 "metadata": {
  "kernelspec": {
   "display_name": "Python 3 (ipykernel)",
   "language": "python",
   "name": "python3"
  },
  "language_info": {
   "codemirror_mode": {
    "name": "ipython",
    "version": 3
   },
   "file_extension": ".py",
   "mimetype": "text/x-python",
   "name": "python",
   "nbconvert_exporter": "python",
   "pygments_lexer": "ipython3",
   "version": "3.9.10"
  }
 },
 "nbformat": 4,
 "nbformat_minor": 5
}
